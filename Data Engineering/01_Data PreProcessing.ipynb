{
 "cells": [
  {
   "cell_type": "markdown",
   "metadata": {},
   "source": [
    "# Data Exploration"
   ]
  },
  {
   "cell_type": "code",
   "execution_count": 1,
   "metadata": {},
   "outputs": [
    {
     "data": {
      "text/html": [
       "<div>\n",
       "<style scoped>\n",
       "    .dataframe tbody tr th:only-of-type {\n",
       "        vertical-align: middle;\n",
       "    }\n",
       "\n",
       "    .dataframe tbody tr th {\n",
       "        vertical-align: top;\n",
       "    }\n",
       "\n",
       "    .dataframe thead th {\n",
       "        text-align: right;\n",
       "    }\n",
       "</style>\n",
       "<table border=\"1\" class=\"dataframe\">\n",
       "  <thead>\n",
       "    <tr style=\"text-align: right;\">\n",
       "      <th></th>\n",
       "      <th>preg</th>\n",
       "      <th>plas</th>\n",
       "      <th>pres</th>\n",
       "      <th>skin</th>\n",
       "      <th>test</th>\n",
       "      <th>mass</th>\n",
       "      <th>pedi</th>\n",
       "      <th>age</th>\n",
       "      <th>class</th>\n",
       "    </tr>\n",
       "  </thead>\n",
       "  <tbody>\n",
       "    <tr>\n",
       "      <th>0</th>\n",
       "      <td>6</td>\n",
       "      <td>148</td>\n",
       "      <td>72</td>\n",
       "      <td>35</td>\n",
       "      <td>0</td>\n",
       "      <td>33.6</td>\n",
       "      <td>0.627</td>\n",
       "      <td>50</td>\n",
       "      <td>1</td>\n",
       "    </tr>\n",
       "    <tr>\n",
       "      <th>1</th>\n",
       "      <td>1</td>\n",
       "      <td>85</td>\n",
       "      <td>66</td>\n",
       "      <td>29</td>\n",
       "      <td>0</td>\n",
       "      <td>26.6</td>\n",
       "      <td>0.351</td>\n",
       "      <td>31</td>\n",
       "      <td>0</td>\n",
       "    </tr>\n",
       "    <tr>\n",
       "      <th>2</th>\n",
       "      <td>8</td>\n",
       "      <td>183</td>\n",
       "      <td>64</td>\n",
       "      <td>0</td>\n",
       "      <td>0</td>\n",
       "      <td>23.3</td>\n",
       "      <td>0.672</td>\n",
       "      <td>32</td>\n",
       "      <td>1</td>\n",
       "    </tr>\n",
       "    <tr>\n",
       "      <th>3</th>\n",
       "      <td>1</td>\n",
       "      <td>89</td>\n",
       "      <td>66</td>\n",
       "      <td>23</td>\n",
       "      <td>94</td>\n",
       "      <td>28.1</td>\n",
       "      <td>0.167</td>\n",
       "      <td>21</td>\n",
       "      <td>0</td>\n",
       "    </tr>\n",
       "    <tr>\n",
       "      <th>4</th>\n",
       "      <td>0</td>\n",
       "      <td>137</td>\n",
       "      <td>40</td>\n",
       "      <td>35</td>\n",
       "      <td>168</td>\n",
       "      <td>43.1</td>\n",
       "      <td>2.288</td>\n",
       "      <td>33</td>\n",
       "      <td>1</td>\n",
       "    </tr>\n",
       "  </tbody>\n",
       "</table>\n",
       "</div>"
      ],
      "text/plain": [
       "   preg  plas  pres  skin  test  mass   pedi  age  class\n",
       "0     6   148    72    35     0  33.6  0.627   50      1\n",
       "1     1    85    66    29     0  26.6  0.351   31      0\n",
       "2     8   183    64     0     0  23.3  0.672   32      1\n",
       "3     1    89    66    23    94  28.1  0.167   21      0\n",
       "4     0   137    40    35   168  43.1  2.288   33      1"
      ]
     },
     "execution_count": 1,
     "metadata": {},
     "output_type": "execute_result"
    }
   ],
   "source": [
    "import pandas as pd\n",
    "import numpy as np\n",
    "import matplotlib.pyplot as plt\n",
    "%matplotlib inline\n",
    "names = ['preg', 'plas', 'pres', 'skin', 'test', 'mass', 'pedi', 'age', 'class']\n",
    "\n",
    "df = pd.read_csv('./dataset/pima-indians-diabetes.data.csv', names=names)\n",
    "df.head()"
   ]
  },
  {
   "cell_type": "code",
   "execution_count": 2,
   "metadata": {},
   "outputs": [
    {
     "data": {
      "text/plain": [
       "preg       int64\n",
       "plas       int64\n",
       "pres       int64\n",
       "skin       int64\n",
       "test       int64\n",
       "mass     float64\n",
       "pedi     float64\n",
       "age        int64\n",
       "class      int64\n",
       "dtype: object"
      ]
     },
     "execution_count": 2,
     "metadata": {},
     "output_type": "execute_result"
    }
   ],
   "source": [
    "df.dtypes"
   ]
  },
  {
   "cell_type": "code",
   "execution_count": 3,
   "metadata": {},
   "outputs": [
    {
     "data": {
      "text/html": [
       "<div>\n",
       "<style scoped>\n",
       "    .dataframe tbody tr th:only-of-type {\n",
       "        vertical-align: middle;\n",
       "    }\n",
       "\n",
       "    .dataframe tbody tr th {\n",
       "        vertical-align: top;\n",
       "    }\n",
       "\n",
       "    .dataframe thead th {\n",
       "        text-align: right;\n",
       "    }\n",
       "</style>\n",
       "<table border=\"1\" class=\"dataframe\">\n",
       "  <thead>\n",
       "    <tr style=\"text-align: right;\">\n",
       "      <th></th>\n",
       "      <th>preg</th>\n",
       "      <th>plas</th>\n",
       "      <th>pres</th>\n",
       "      <th>skin</th>\n",
       "      <th>test</th>\n",
       "      <th>mass</th>\n",
       "      <th>pedi</th>\n",
       "      <th>age</th>\n",
       "      <th>class</th>\n",
       "    </tr>\n",
       "  </thead>\n",
       "  <tbody>\n",
       "    <tr>\n",
       "      <th>count</th>\n",
       "      <td>768.000000</td>\n",
       "      <td>768.000000</td>\n",
       "      <td>768.000000</td>\n",
       "      <td>768.000000</td>\n",
       "      <td>768.000000</td>\n",
       "      <td>768.000000</td>\n",
       "      <td>768.000000</td>\n",
       "      <td>768.000000</td>\n",
       "      <td>768.000000</td>\n",
       "    </tr>\n",
       "    <tr>\n",
       "      <th>mean</th>\n",
       "      <td>3.845052</td>\n",
       "      <td>120.894531</td>\n",
       "      <td>69.105469</td>\n",
       "      <td>20.536458</td>\n",
       "      <td>79.799479</td>\n",
       "      <td>31.992578</td>\n",
       "      <td>0.471876</td>\n",
       "      <td>33.240885</td>\n",
       "      <td>0.348958</td>\n",
       "    </tr>\n",
       "    <tr>\n",
       "      <th>std</th>\n",
       "      <td>3.369578</td>\n",
       "      <td>31.972618</td>\n",
       "      <td>19.355807</td>\n",
       "      <td>15.952218</td>\n",
       "      <td>115.244002</td>\n",
       "      <td>7.884160</td>\n",
       "      <td>0.331329</td>\n",
       "      <td>11.760232</td>\n",
       "      <td>0.476951</td>\n",
       "    </tr>\n",
       "    <tr>\n",
       "      <th>min</th>\n",
       "      <td>0.000000</td>\n",
       "      <td>0.000000</td>\n",
       "      <td>0.000000</td>\n",
       "      <td>0.000000</td>\n",
       "      <td>0.000000</td>\n",
       "      <td>0.000000</td>\n",
       "      <td>0.078000</td>\n",
       "      <td>21.000000</td>\n",
       "      <td>0.000000</td>\n",
       "    </tr>\n",
       "    <tr>\n",
       "      <th>25%</th>\n",
       "      <td>1.000000</td>\n",
       "      <td>99.000000</td>\n",
       "      <td>62.000000</td>\n",
       "      <td>0.000000</td>\n",
       "      <td>0.000000</td>\n",
       "      <td>27.300000</td>\n",
       "      <td>0.243750</td>\n",
       "      <td>24.000000</td>\n",
       "      <td>0.000000</td>\n",
       "    </tr>\n",
       "    <tr>\n",
       "      <th>50%</th>\n",
       "      <td>3.000000</td>\n",
       "      <td>117.000000</td>\n",
       "      <td>72.000000</td>\n",
       "      <td>23.000000</td>\n",
       "      <td>30.500000</td>\n",
       "      <td>32.000000</td>\n",
       "      <td>0.372500</td>\n",
       "      <td>29.000000</td>\n",
       "      <td>0.000000</td>\n",
       "    </tr>\n",
       "    <tr>\n",
       "      <th>75%</th>\n",
       "      <td>6.000000</td>\n",
       "      <td>140.250000</td>\n",
       "      <td>80.000000</td>\n",
       "      <td>32.000000</td>\n",
       "      <td>127.250000</td>\n",
       "      <td>36.600000</td>\n",
       "      <td>0.626250</td>\n",
       "      <td>41.000000</td>\n",
       "      <td>1.000000</td>\n",
       "    </tr>\n",
       "    <tr>\n",
       "      <th>max</th>\n",
       "      <td>17.000000</td>\n",
       "      <td>199.000000</td>\n",
       "      <td>122.000000</td>\n",
       "      <td>99.000000</td>\n",
       "      <td>846.000000</td>\n",
       "      <td>67.100000</td>\n",
       "      <td>2.420000</td>\n",
       "      <td>81.000000</td>\n",
       "      <td>1.000000</td>\n",
       "    </tr>\n",
       "  </tbody>\n",
       "</table>\n",
       "</div>"
      ],
      "text/plain": [
       "             preg        plas        pres        skin        test        mass  \\\n",
       "count  768.000000  768.000000  768.000000  768.000000  768.000000  768.000000   \n",
       "mean     3.845052  120.894531   69.105469   20.536458   79.799479   31.992578   \n",
       "std      3.369578   31.972618   19.355807   15.952218  115.244002    7.884160   \n",
       "min      0.000000    0.000000    0.000000    0.000000    0.000000    0.000000   \n",
       "25%      1.000000   99.000000   62.000000    0.000000    0.000000   27.300000   \n",
       "50%      3.000000  117.000000   72.000000   23.000000   30.500000   32.000000   \n",
       "75%      6.000000  140.250000   80.000000   32.000000  127.250000   36.600000   \n",
       "max     17.000000  199.000000  122.000000   99.000000  846.000000   67.100000   \n",
       "\n",
       "             pedi         age       class  \n",
       "count  768.000000  768.000000  768.000000  \n",
       "mean     0.471876   33.240885    0.348958  \n",
       "std      0.331329   11.760232    0.476951  \n",
       "min      0.078000   21.000000    0.000000  \n",
       "25%      0.243750   24.000000    0.000000  \n",
       "50%      0.372500   29.000000    0.000000  \n",
       "75%      0.626250   41.000000    1.000000  \n",
       "max      2.420000   81.000000    1.000000  "
      ]
     },
     "execution_count": 3,
     "metadata": {},
     "output_type": "execute_result"
    }
   ],
   "source": [
    "df.describe(include='all')"
   ]
  },
  {
   "cell_type": "code",
   "execution_count": 4,
   "metadata": {},
   "outputs": [
    {
     "data": {
      "text/plain": [
       "<AxesSubplot:>"
      ]
     },
     "execution_count": 4,
     "metadata": {},
     "output_type": "execute_result"
    },
    {
     "data": {
      "image/png": "[encoded data removed]",
      "text/plain": [
       "<Figure size 432x288 with 1 Axes>"
      ]
     },
     "metadata": {
      "needs_background": "light"
     },
     "output_type": "display_data"
    }
   ],
   "source": [
    "df.boxplot()"
   ]
  },
  {
   "cell_type": "code",
   "execution_count": 5,
   "metadata": {},
   "outputs": [
    {
     "data": {
      "image/png": "[encoded data removed]",
      "text/plain": [
       "<Figure size 432x288 with 9 Axes>"
      ]
     },
     "metadata": {
      "needs_background": "light"
     },
     "output_type": "display_data"
    }
   ],
   "source": [
    "df.hist()\n",
    "plt.tight_layout()"
   ]
  },
  {
   "cell_type": "code",
   "execution_count": 6,
   "metadata": {},
   "outputs": [
    {
     "data": {
      "text/plain": [
       "class\n",
       "0    AxesSubplot(0.125,0.125;0.775x0.755)\n",
       "1    AxesSubplot(0.125,0.125;0.775x0.755)\n",
       "Name: plas, dtype: object"
      ]
     },
     "execution_count": 6,
     "metadata": {},
     "output_type": "execute_result"
    },
    {
     "data": {
      "image/png": "[encoded data removed]",
      "text/plain": [
       "<Figure size 432x288 with 1 Axes>"
      ]
     },
     "metadata": {
      "needs_background": "light"
     },
     "output_type": "display_data"
    }
   ],
   "source": [
    "df.groupby('class').plas.hist(alpha=0.4)"
   ]
  },
  {
   "cell_type": "code",
   "execution_count": 7,
   "metadata": {},
   "outputs": [
    {
     "data": {
      "image/png": "[encoded data removed]",
      "text/plain": [
       "<Figure size 432x432 with 81 Axes>"
      ]
     },
     "metadata": {
      "needs_background": "light"
     },
     "output_type": "display_data"
    }
   ],
   "source": [
    "from pandas.plotting import scatter_matrix\n",
    "scatter_matrix(df, alpha=0.2, figsize=(6, 6), diagonal='kde')\n",
    "plt.tight_layout()"
   ]
  },
  {
   "cell_type": "code",
   "execution_count": 8,
   "metadata": {},
   "outputs": [
    {
     "name": "stderr",
     "output_type": "stream",
     "text": [
      "C:\\Users\\Student\\AppData\\Local\\Temp\\ipykernel_13820\\337408663.py:6: UserWarning: This figure includes Axes that are not compatible with tight_layout, so results might be incorrect.\n",
      "  plt.tight_layout()\n"
     ]
    },
    {
     "data": {
      "image/png": "[encoded data removed]",
      "text/plain": [
       "<Figure size 288x288 with 2 Axes>"
      ]
     },
     "metadata": {
      "needs_background": "light"
     },
     "output_type": "display_data"
    }
   ],
   "source": [
    "plt.matshow(df.corr())\n",
    "plt.xticks(range(df.shape[1]), df.columns, fontsize=14, rotation=45)\n",
    "plt.yticks(range(df.shape[1]), df.columns, fontsize=14)\n",
    "cb = plt.colorbar()\n",
    "cb.ax.tick_params(labelsize=14)\n",
    "plt.tight_layout()\n",
    "plt.show()\n"
   ]
  },
  {
   "cell_type": "markdown",
   "metadata": {},
   "source": [
    "# Feature Cleaning"
   ]
  },
  {
   "cell_type": "code",
   "execution_count": 9,
   "metadata": {},
   "outputs": [
    {
     "name": "stdout",
     "output_type": "stream",
     "text": [
      "(891, 6)\n"
     ]
    }
   ],
   "source": [
    "import pandas as pd\n",
    "use_cols = [\n",
    "    'Pclass', 'Sex', 'Age', 'Fare', 'SibSp',\n",
    "    'Survived'\n",
    "]\n",
    "\n",
    "df = pd.read_csv('./dataset/titanic.csv', usecols=use_cols)\n",
    "print(df.shape)"
   ]
  },
  {
   "cell_type": "code",
   "execution_count": 10,
   "metadata": {},
   "outputs": [
    {
     "data": {
      "text/plain": [
       "Survived      0\n",
       "Pclass        0\n",
       "Sex           0\n",
       "Age         177\n",
       "SibSp         0\n",
       "Fare          0\n",
       "dtype: int64"
      ]
     },
     "execution_count": 10,
     "metadata": {},
     "output_type": "execute_result"
    }
   ],
   "source": [
    "df.isnull().sum()"
   ]
  },
  {
   "cell_type": "code",
   "execution_count": 12,
   "metadata": {},
   "outputs": [
    {
     "data": {
      "text/html": [
       "<div>\n",
       "<style scoped>\n",
       "    .dataframe tbody tr th:only-of-type {\n",
       "        vertical-align: middle;\n",
       "    }\n",
       "\n",
       "    .dataframe tbody tr th {\n",
       "        vertical-align: top;\n",
       "    }\n",
       "\n",
       "    .dataframe thead th {\n",
       "        text-align: right;\n",
       "    }\n",
       "</style>\n",
       "<table border=\"1\" class=\"dataframe\">\n",
       "  <thead>\n",
       "    <tr style=\"text-align: right;\">\n",
       "      <th></th>\n",
       "      <th>Survived</th>\n",
       "      <th>Pclass</th>\n",
       "      <th>Sex</th>\n",
       "      <th>Age</th>\n",
       "      <th>SibSp</th>\n",
       "      <th>Fare</th>\n",
       "    </tr>\n",
       "  </thead>\n",
       "  <tbody>\n",
       "    <tr>\n",
       "      <th>0</th>\n",
       "      <td>0</td>\n",
       "      <td>3</td>\n",
       "      <td>male</td>\n",
       "      <td>22.0</td>\n",
       "      <td>1</td>\n",
       "      <td>7.2500</td>\n",
       "    </tr>\n",
       "    <tr>\n",
       "      <th>1</th>\n",
       "      <td>1</td>\n",
       "      <td>1</td>\n",
       "      <td>female</td>\n",
       "      <td>38.0</td>\n",
       "      <td>1</td>\n",
       "      <td>71.2833</td>\n",
       "    </tr>\n",
       "    <tr>\n",
       "      <th>2</th>\n",
       "      <td>1</td>\n",
       "      <td>3</td>\n",
       "      <td>female</td>\n",
       "      <td>26.0</td>\n",
       "      <td>0</td>\n",
       "      <td>7.9250</td>\n",
       "    </tr>\n",
       "    <tr>\n",
       "      <th>3</th>\n",
       "      <td>1</td>\n",
       "      <td>1</td>\n",
       "      <td>female</td>\n",
       "      <td>35.0</td>\n",
       "      <td>1</td>\n",
       "      <td>53.1000</td>\n",
       "    </tr>\n",
       "    <tr>\n",
       "      <th>4</th>\n",
       "      <td>0</td>\n",
       "      <td>3</td>\n",
       "      <td>male</td>\n",
       "      <td>35.0</td>\n",
       "      <td>0</td>\n",
       "      <td>8.0500</td>\n",
       "    </tr>\n",
       "  </tbody>\n",
       "</table>\n",
       "</div>"
      ],
      "text/plain": [
       "   Survived  Pclass     Sex   Age  SibSp     Fare\n",
       "0         0       3    male  22.0      1   7.2500\n",
       "1         1       1  female  38.0      1  71.2833\n",
       "2         1       3  female  26.0      0   7.9250\n",
       "3         1       1  female  35.0      1  53.1000\n",
       "4         0       3    male  35.0      0   8.0500"
      ]
     },
     "execution_count": 12,
     "metadata": {},
     "output_type": "execute_result"
    }
   ],
   "source": [
    "df.head()"
   ]
  },
  {
   "cell_type": "code",
   "execution_count": 11,
   "metadata": {},
   "outputs": [
    {
     "data": {
      "text/plain": [
       "Survived    0\n",
       "Pclass      0\n",
       "Sex         0\n",
       "Age         0\n",
       "SibSp       0\n",
       "Fare        0\n",
       "dtype: int64"
      ]
     },
     "execution_count": 11,
     "metadata": {},
     "output_type": "execute_result"
    }
   ],
   "source": [
    "# Listwise deletion\n",
    "df_no_missing = df.dropna()\n",
    "df_no_missing.isnull().sum()"
   ]
  },
  {
   "cell_type": "code",
   "execution_count": 6,
   "metadata": {},
   "outputs": [
    {
     "name": "stdout",
     "output_type": "stream",
     "text": [
      "fill missing value with arbitrary value\n"
     ]
    },
    {
     "data": {
      "text/html": [
       "<div>\n",
       "<style scoped>\n",
       "    .dataframe tbody tr th:only-of-type {\n",
       "        vertical-align: middle;\n",
       "    }\n",
       "\n",
       "    .dataframe tbody tr th {\n",
       "        vertical-align: top;\n",
       "    }\n",
       "\n",
       "    .dataframe thead th {\n",
       "        text-align: right;\n",
       "    }\n",
       "</style>\n",
       "<table border=\"1\" class=\"dataframe\">\n",
       "  <thead>\n",
       "    <tr style=\"text-align: right;\">\n",
       "      <th></th>\n",
       "      <th>Survived</th>\n",
       "      <th>Pclass</th>\n",
       "      <th>Sex</th>\n",
       "      <th>Age</th>\n",
       "      <th>SibSp</th>\n",
       "      <th>Fare</th>\n",
       "    </tr>\n",
       "  </thead>\n",
       "  <tbody>\n",
       "    <tr>\n",
       "      <th>0</th>\n",
       "      <td>0</td>\n",
       "      <td>3</td>\n",
       "      <td>male</td>\n",
       "      <td>22.0</td>\n",
       "      <td>1</td>\n",
       "      <td>7.2500</td>\n",
       "    </tr>\n",
       "    <tr>\n",
       "      <th>1</th>\n",
       "      <td>1</td>\n",
       "      <td>1</td>\n",
       "      <td>female</td>\n",
       "      <td>38.0</td>\n",
       "      <td>1</td>\n",
       "      <td>71.2833</td>\n",
       "    </tr>\n",
       "    <tr>\n",
       "      <th>2</th>\n",
       "      <td>1</td>\n",
       "      <td>3</td>\n",
       "      <td>female</td>\n",
       "      <td>26.0</td>\n",
       "      <td>0</td>\n",
       "      <td>7.9250</td>\n",
       "    </tr>\n",
       "    <tr>\n",
       "      <th>3</th>\n",
       "      <td>1</td>\n",
       "      <td>1</td>\n",
       "      <td>female</td>\n",
       "      <td>35.0</td>\n",
       "      <td>1</td>\n",
       "      <td>53.1000</td>\n",
       "    </tr>\n",
       "    <tr>\n",
       "      <th>4</th>\n",
       "      <td>0</td>\n",
       "      <td>3</td>\n",
       "      <td>male</td>\n",
       "      <td>35.0</td>\n",
       "      <td>0</td>\n",
       "      <td>8.0500</td>\n",
       "    </tr>\n",
       "    <tr>\n",
       "      <th>5</th>\n",
       "      <td>0</td>\n",
       "      <td>3</td>\n",
       "      <td>male</td>\n",
       "      <td>0.0</td>\n",
       "      <td>0</td>\n",
       "      <td>8.4583</td>\n",
       "    </tr>\n",
       "    <tr>\n",
       "      <th>6</th>\n",
       "      <td>0</td>\n",
       "      <td>1</td>\n",
       "      <td>male</td>\n",
       "      <td>54.0</td>\n",
       "      <td>0</td>\n",
       "      <td>51.8625</td>\n",
       "    </tr>\n",
       "    <tr>\n",
       "      <th>7</th>\n",
       "      <td>0</td>\n",
       "      <td>3</td>\n",
       "      <td>male</td>\n",
       "      <td>2.0</td>\n",
       "      <td>3</td>\n",
       "      <td>21.0750</td>\n",
       "    </tr>\n",
       "    <tr>\n",
       "      <th>8</th>\n",
       "      <td>1</td>\n",
       "      <td>3</td>\n",
       "      <td>female</td>\n",
       "      <td>27.0</td>\n",
       "      <td>0</td>\n",
       "      <td>11.1333</td>\n",
       "    </tr>\n",
       "    <tr>\n",
       "      <th>9</th>\n",
       "      <td>1</td>\n",
       "      <td>2</td>\n",
       "      <td>female</td>\n",
       "      <td>14.0</td>\n",
       "      <td>1</td>\n",
       "      <td>30.0708</td>\n",
       "    </tr>\n",
       "  </tbody>\n",
       "</table>\n",
       "</div>"
      ],
      "text/plain": [
       "   Survived  Pclass     Sex   Age  SibSp     Fare\n",
       "0         0       3    male  22.0      1   7.2500\n",
       "1         1       1  female  38.0      1  71.2833\n",
       "2         1       3  female  26.0      0   7.9250\n",
       "3         1       1  female  35.0      1  53.1000\n",
       "4         0       3    male  35.0      0   8.0500\n",
       "5         0       3    male   0.0      0   8.4583\n",
       "6         0       1    male  54.0      0  51.8625\n",
       "7         0       3    male   2.0      3  21.0750\n",
       "8         1       3  female  27.0      0  11.1333\n",
       "9         1       2  female  14.0      1  30.0708"
      ]
     },
     "execution_count": 6,
     "metadata": {},
     "output_type": "execute_result"
    }
   ],
   "source": [
    "# Arbitrary Value Imputation\n",
    "print('fill missing value with arbitrary value')\n",
    "df_av_imputation = df.copy() \n",
    "df_av_imputation[\"Age\"].fillna(0, inplace=True)\n",
    "df_av_imputation.head(10)"
   ]
  },
  {
   "cell_type": "code",
   "execution_count": 17,
   "metadata": {},
   "outputs": [
    {
     "name": "stdout",
     "output_type": "stream",
     "text": [
      "fill missing value with Mean/Median/Mode value\n"
     ]
    }
   ],
   "source": [
    "# Arbitrary Value Imputation\n",
    "print('fill missing value with Mean/Median/Mode value')\n",
    "df_mean_imputation = df.copy() \n",
    "df_median_imputation = df.copy() \n",
    "df_mode_imputation = df.copy() "
   ]
  },
  {
   "cell_type": "code",
   "execution_count": 18,
   "metadata": {},
   "outputs": [
    {
     "data": {
      "text/html": [
       "<div>\n",
       "<style scoped>\n",
       "    .dataframe tbody tr th:only-of-type {\n",
       "        vertical-align: middle;\n",
       "    }\n",
       "\n",
       "    .dataframe tbody tr th {\n",
       "        vertical-align: top;\n",
       "    }\n",
       "\n",
       "    .dataframe thead th {\n",
       "        text-align: right;\n",
       "    }\n",
       "</style>\n",
       "<table border=\"1\" class=\"dataframe\">\n",
       "  <thead>\n",
       "    <tr style=\"text-align: right;\">\n",
       "      <th></th>\n",
       "      <th>Survived</th>\n",
       "      <th>Pclass</th>\n",
       "      <th>Sex</th>\n",
       "      <th>Age</th>\n",
       "      <th>SibSp</th>\n",
       "      <th>Fare</th>\n",
       "    </tr>\n",
       "  </thead>\n",
       "  <tbody>\n",
       "    <tr>\n",
       "      <th>0</th>\n",
       "      <td>0</td>\n",
       "      <td>3</td>\n",
       "      <td>male</td>\n",
       "      <td>22.000000</td>\n",
       "      <td>1</td>\n",
       "      <td>7.2500</td>\n",
       "    </tr>\n",
       "    <tr>\n",
       "      <th>1</th>\n",
       "      <td>1</td>\n",
       "      <td>1</td>\n",
       "      <td>female</td>\n",
       "      <td>38.000000</td>\n",
       "      <td>1</td>\n",
       "      <td>71.2833</td>\n",
       "    </tr>\n",
       "    <tr>\n",
       "      <th>2</th>\n",
       "      <td>1</td>\n",
       "      <td>3</td>\n",
       "      <td>female</td>\n",
       "      <td>26.000000</td>\n",
       "      <td>0</td>\n",
       "      <td>7.9250</td>\n",
       "    </tr>\n",
       "    <tr>\n",
       "      <th>3</th>\n",
       "      <td>1</td>\n",
       "      <td>1</td>\n",
       "      <td>female</td>\n",
       "      <td>35.000000</td>\n",
       "      <td>1</td>\n",
       "      <td>53.1000</td>\n",
       "    </tr>\n",
       "    <tr>\n",
       "      <th>4</th>\n",
       "      <td>0</td>\n",
       "      <td>3</td>\n",
       "      <td>male</td>\n",
       "      <td>35.000000</td>\n",
       "      <td>0</td>\n",
       "      <td>8.0500</td>\n",
       "    </tr>\n",
       "    <tr>\n",
       "      <th>5</th>\n",
       "      <td>0</td>\n",
       "      <td>3</td>\n",
       "      <td>male</td>\n",
       "      <td>29.699118</td>\n",
       "      <td>0</td>\n",
       "      <td>8.4583</td>\n",
       "    </tr>\n",
       "    <tr>\n",
       "      <th>6</th>\n",
       "      <td>0</td>\n",
       "      <td>1</td>\n",
       "      <td>male</td>\n",
       "      <td>54.000000</td>\n",
       "      <td>0</td>\n",
       "      <td>51.8625</td>\n",
       "    </tr>\n",
       "    <tr>\n",
       "      <th>7</th>\n",
       "      <td>0</td>\n",
       "      <td>3</td>\n",
       "      <td>male</td>\n",
       "      <td>2.000000</td>\n",
       "      <td>3</td>\n",
       "      <td>21.0750</td>\n",
       "    </tr>\n",
       "    <tr>\n",
       "      <th>8</th>\n",
       "      <td>1</td>\n",
       "      <td>3</td>\n",
       "      <td>female</td>\n",
       "      <td>27.000000</td>\n",
       "      <td>0</td>\n",
       "      <td>11.1333</td>\n",
       "    </tr>\n",
       "    <tr>\n",
       "      <th>9</th>\n",
       "      <td>1</td>\n",
       "      <td>2</td>\n",
       "      <td>female</td>\n",
       "      <td>14.000000</td>\n",
       "      <td>1</td>\n",
       "      <td>30.0708</td>\n",
       "    </tr>\n",
       "  </tbody>\n",
       "</table>\n",
       "</div>"
      ],
      "text/plain": [
       "   Survived  Pclass     Sex        Age  SibSp     Fare\n",
       "0         0       3    male  22.000000      1   7.2500\n",
       "1         1       1  female  38.000000      1  71.2833\n",
       "2         1       3  female  26.000000      0   7.9250\n",
       "3         1       1  female  35.000000      1  53.1000\n",
       "4         0       3    male  35.000000      0   8.0500\n",
       "5         0       3    male  29.699118      0   8.4583\n",
       "6         0       1    male  54.000000      0  51.8625\n",
       "7         0       3    male   2.000000      3  21.0750\n",
       "8         1       3  female  27.000000      0  11.1333\n",
       "9         1       2  female  14.000000      1  30.0708"
      ]
     },
     "execution_count": 18,
     "metadata": {},
     "output_type": "execute_result"
    }
   ],
   "source": [
    "df_mean_imputation[\"Age\"].fillna(df[\"Age\"].mean(), inplace=True)\n",
    "df_mean_imputation.head(10)"
   ]
  },
  {
   "cell_type": "code",
   "execution_count": 12,
   "metadata": {},
   "outputs": [
    {
     "data": {
      "text/html": [
       "<div>\n",
       "<style scoped>\n",
       "    .dataframe tbody tr th:only-of-type {\n",
       "        vertical-align: middle;\n",
       "    }\n",
       "\n",
       "    .dataframe tbody tr th {\n",
       "        vertical-align: top;\n",
       "    }\n",
       "\n",
       "    .dataframe thead th {\n",
       "        text-align: right;\n",
       "    }\n",
       "</style>\n",
       "<table border=\"1\" class=\"dataframe\">\n",
       "  <thead>\n",
       "    <tr style=\"text-align: right;\">\n",
       "      <th></th>\n",
       "      <th>Survived</th>\n",
       "      <th>Pclass</th>\n",
       "      <th>Sex</th>\n",
       "      <th>Age</th>\n",
       "      <th>SibSp</th>\n",
       "      <th>Fare</th>\n",
       "    </tr>\n",
       "  </thead>\n",
       "  <tbody>\n",
       "    <tr>\n",
       "      <th>0</th>\n",
       "      <td>0</td>\n",
       "      <td>3</td>\n",
       "      <td>male</td>\n",
       "      <td>22.0</td>\n",
       "      <td>1</td>\n",
       "      <td>7.2500</td>\n",
       "    </tr>\n",
       "    <tr>\n",
       "      <th>1</th>\n",
       "      <td>1</td>\n",
       "      <td>1</td>\n",
       "      <td>female</td>\n",
       "      <td>38.0</td>\n",
       "      <td>1</td>\n",
       "      <td>71.2833</td>\n",
       "    </tr>\n",
       "    <tr>\n",
       "      <th>2</th>\n",
       "      <td>1</td>\n",
       "      <td>3</td>\n",
       "      <td>female</td>\n",
       "      <td>26.0</td>\n",
       "      <td>0</td>\n",
       "      <td>7.9250</td>\n",
       "    </tr>\n",
       "    <tr>\n",
       "      <th>3</th>\n",
       "      <td>1</td>\n",
       "      <td>1</td>\n",
       "      <td>female</td>\n",
       "      <td>35.0</td>\n",
       "      <td>1</td>\n",
       "      <td>53.1000</td>\n",
       "    </tr>\n",
       "    <tr>\n",
       "      <th>4</th>\n",
       "      <td>0</td>\n",
       "      <td>3</td>\n",
       "      <td>male</td>\n",
       "      <td>35.0</td>\n",
       "      <td>0</td>\n",
       "      <td>8.0500</td>\n",
       "    </tr>\n",
       "    <tr>\n",
       "      <th>5</th>\n",
       "      <td>0</td>\n",
       "      <td>3</td>\n",
       "      <td>male</td>\n",
       "      <td>28.0</td>\n",
       "      <td>0</td>\n",
       "      <td>8.4583</td>\n",
       "    </tr>\n",
       "    <tr>\n",
       "      <th>6</th>\n",
       "      <td>0</td>\n",
       "      <td>1</td>\n",
       "      <td>male</td>\n",
       "      <td>54.0</td>\n",
       "      <td>0</td>\n",
       "      <td>51.8625</td>\n",
       "    </tr>\n",
       "    <tr>\n",
       "      <th>7</th>\n",
       "      <td>0</td>\n",
       "      <td>3</td>\n",
       "      <td>male</td>\n",
       "      <td>2.0</td>\n",
       "      <td>3</td>\n",
       "      <td>21.0750</td>\n",
       "    </tr>\n",
       "    <tr>\n",
       "      <th>8</th>\n",
       "      <td>1</td>\n",
       "      <td>3</td>\n",
       "      <td>female</td>\n",
       "      <td>27.0</td>\n",
       "      <td>0</td>\n",
       "      <td>11.1333</td>\n",
       "    </tr>\n",
       "    <tr>\n",
       "      <th>9</th>\n",
       "      <td>1</td>\n",
       "      <td>2</td>\n",
       "      <td>female</td>\n",
       "      <td>14.0</td>\n",
       "      <td>1</td>\n",
       "      <td>30.0708</td>\n",
       "    </tr>\n",
       "  </tbody>\n",
       "</table>\n",
       "</div>"
      ],
      "text/plain": [
       "   Survived  Pclass     Sex   Age  SibSp     Fare\n",
       "0         0       3    male  22.0      1   7.2500\n",
       "1         1       1  female  38.0      1  71.2833\n",
       "2         1       3  female  26.0      0   7.9250\n",
       "3         1       1  female  35.0      1  53.1000\n",
       "4         0       3    male  35.0      0   8.0500\n",
       "5         0       3    male  28.0      0   8.4583\n",
       "6         0       1    male  54.0      0  51.8625\n",
       "7         0       3    male   2.0      3  21.0750\n",
       "8         1       3  female  27.0      0  11.1333\n",
       "9         1       2  female  14.0      1  30.0708"
      ]
     },
     "execution_count": 12,
     "metadata": {},
     "output_type": "execute_result"
    }
   ],
   "source": [
    "df_median_imputation[\"Age\"].fillna(df[\"Age\"].median(), inplace=True)\n",
    "df_median_imputation.head(10)"
   ]
  },
  {
   "cell_type": "code",
   "execution_count": 13,
   "metadata": {},
   "outputs": [],
   "source": [
    "#df_mode_imputation[\"Age\"].fillna(df[\"Age\"].mode(), inplace=True)\n",
    "#df_mode_imputation.head(10)"
   ]
  },
  {
   "cell_type": "code",
   "execution_count": 19,
   "metadata": {},
   "outputs": [
    {
     "name": "stdout",
     "output_type": "stream",
     "text": [
      "fill missing value with end of distribution imputation\n"
     ]
    },
    {
     "data": {
      "text/html": [
       "<div>\n",
       "<style scoped>\n",
       "    .dataframe tbody tr th:only-of-type {\n",
       "        vertical-align: middle;\n",
       "    }\n",
       "\n",
       "    .dataframe tbody tr th {\n",
       "        vertical-align: top;\n",
       "    }\n",
       "\n",
       "    .dataframe thead th {\n",
       "        text-align: right;\n",
       "    }\n",
       "</style>\n",
       "<table border=\"1\" class=\"dataframe\">\n",
       "  <thead>\n",
       "    <tr style=\"text-align: right;\">\n",
       "      <th></th>\n",
       "      <th>Survived</th>\n",
       "      <th>Pclass</th>\n",
       "      <th>Sex</th>\n",
       "      <th>Age</th>\n",
       "      <th>SibSp</th>\n",
       "      <th>Fare</th>\n",
       "    </tr>\n",
       "  </thead>\n",
       "  <tbody>\n",
       "    <tr>\n",
       "      <th>0</th>\n",
       "      <td>0</td>\n",
       "      <td>3</td>\n",
       "      <td>male</td>\n",
       "      <td>22.00000</td>\n",
       "      <td>1</td>\n",
       "      <td>7.2500</td>\n",
       "    </tr>\n",
       "    <tr>\n",
       "      <th>1</th>\n",
       "      <td>1</td>\n",
       "      <td>1</td>\n",
       "      <td>female</td>\n",
       "      <td>38.00000</td>\n",
       "      <td>1</td>\n",
       "      <td>71.2833</td>\n",
       "    </tr>\n",
       "    <tr>\n",
       "      <th>2</th>\n",
       "      <td>1</td>\n",
       "      <td>3</td>\n",
       "      <td>female</td>\n",
       "      <td>26.00000</td>\n",
       "      <td>0</td>\n",
       "      <td>7.9250</td>\n",
       "    </tr>\n",
       "    <tr>\n",
       "      <th>3</th>\n",
       "      <td>1</td>\n",
       "      <td>1</td>\n",
       "      <td>female</td>\n",
       "      <td>35.00000</td>\n",
       "      <td>1</td>\n",
       "      <td>53.1000</td>\n",
       "    </tr>\n",
       "    <tr>\n",
       "      <th>4</th>\n",
       "      <td>0</td>\n",
       "      <td>3</td>\n",
       "      <td>male</td>\n",
       "      <td>35.00000</td>\n",
       "      <td>0</td>\n",
       "      <td>8.0500</td>\n",
       "    </tr>\n",
       "    <tr>\n",
       "      <th>5</th>\n",
       "      <td>0</td>\n",
       "      <td>3</td>\n",
       "      <td>male</td>\n",
       "      <td>73.27861</td>\n",
       "      <td>0</td>\n",
       "      <td>8.4583</td>\n",
       "    </tr>\n",
       "    <tr>\n",
       "      <th>6</th>\n",
       "      <td>0</td>\n",
       "      <td>1</td>\n",
       "      <td>male</td>\n",
       "      <td>54.00000</td>\n",
       "      <td>0</td>\n",
       "      <td>51.8625</td>\n",
       "    </tr>\n",
       "    <tr>\n",
       "      <th>7</th>\n",
       "      <td>0</td>\n",
       "      <td>3</td>\n",
       "      <td>male</td>\n",
       "      <td>2.00000</td>\n",
       "      <td>3</td>\n",
       "      <td>21.0750</td>\n",
       "    </tr>\n",
       "    <tr>\n",
       "      <th>8</th>\n",
       "      <td>1</td>\n",
       "      <td>3</td>\n",
       "      <td>female</td>\n",
       "      <td>27.00000</td>\n",
       "      <td>0</td>\n",
       "      <td>11.1333</td>\n",
       "    </tr>\n",
       "    <tr>\n",
       "      <th>9</th>\n",
       "      <td>1</td>\n",
       "      <td>2</td>\n",
       "      <td>female</td>\n",
       "      <td>14.00000</td>\n",
       "      <td>1</td>\n",
       "      <td>30.0708</td>\n",
       "    </tr>\n",
       "  </tbody>\n",
       "</table>\n",
       "</div>"
      ],
      "text/plain": [
       "   Survived  Pclass     Sex       Age  SibSp     Fare\n",
       "0         0       3    male  22.00000      1   7.2500\n",
       "1         1       1  female  38.00000      1  71.2833\n",
       "2         1       3  female  26.00000      0   7.9250\n",
       "3         1       1  female  35.00000      1  53.1000\n",
       "4         0       3    male  35.00000      0   8.0500\n",
       "5         0       3    male  73.27861      0   8.4583\n",
       "6         0       1    male  54.00000      0  51.8625\n",
       "7         0       3    male   2.00000      3  21.0750\n",
       "8         1       3  female  27.00000      0  11.1333\n",
       "9         1       2  female  14.00000      1  30.0708"
      ]
     },
     "execution_count": 19,
     "metadata": {},
     "output_type": "execute_result"
    }
   ],
   "source": [
    "# End of distribution Imputation\n",
    "# mean + 3*std\n",
    "print('fill missing value with end of distribution imputation')\n",
    "df_eof_imputation = df.copy() \n",
    "df_eof_imputation[\"Age\"].fillna(df[\"Age\"].mean()+3*df[\"Age\"].std(), inplace=True)\n",
    "df_eof_imputation.head(10)"
   ]
  },
  {
   "cell_type": "code",
   "execution_count": 20,
   "metadata": {},
   "outputs": [
    {
     "name": "stdout",
     "output_type": "stream",
     "text": [
      "(891, 6)\n"
     ]
    }
   ],
   "source": [
    "# detect outlier \n",
    "import numpy as np\n",
    "import pandas as pd\n",
    "use_cols = [\n",
    "    'Pclass', 'Sex', 'Age', 'Fare', 'SibSp',\n",
    "    'Survived'\n",
    "]\n",
    "\n",
    "\n",
    "data = pd.read_csv('./dataset/titanic.csv', usecols=use_cols)\n",
    "data.head(3)\n",
    "print(data.shape)"
   ]
  },
  {
   "cell_type": "code",
   "execution_count": 24,
   "metadata": {},
   "outputs": [
    {
     "name": "stdout",
     "output_type": "stream",
     "text": [
      "Num of outlier detected: 19\n",
      "Proportion of outlier detected 0.02132435465768799\n",
      "Upper bound: 300 \n",
      "Lower bound: 5\n"
     ]
    },
    {
     "data": {
      "text/plain": [
       "179      0.0000\n",
       "806      0.0000\n",
       "732      0.0000\n",
       "674      0.0000\n",
       "633      0.0000\n",
       "597      0.0000\n",
       "815      0.0000\n",
       "466      0.0000\n",
       "481      0.0000\n",
       "302      0.0000\n",
       "277      0.0000\n",
       "271      0.0000\n",
       "263      0.0000\n",
       "413      0.0000\n",
       "822      0.0000\n",
       "378      4.0125\n",
       "679    512.3292\n",
       "737    512.3292\n",
       "258    512.3292\n",
       "Name: Fare, dtype: float64"
      ]
     },
     "execution_count": 24,
     "metadata": {},
     "output_type": "execute_result"
    }
   ],
   "source": [
    "# detect outlier:  Detect by arbitrary boundary\n",
    "def outlier_detect_arbitrary(data,col,upper_fence,lower_fence):\n",
    "    '''\n",
    "    identify outliers based on arbitrary boundaries passed to the function.\n",
    "    '''\n",
    "\n",
    "    para = (upper_fence, lower_fence)\n",
    "    tmp = pd.concat([data[col]>upper_fence,data[col]<lower_fence],axis=1)\n",
    "    outlier_index = tmp.any(axis=1)\n",
    "    print('Num of outlier detected:',outlier_index.value_counts()[1])\n",
    "    print('Proportion of outlier detected',outlier_index.value_counts()[1]/len(outlier_index))    \n",
    "    return outlier_index, para\n",
    "\n",
    "index,para = outlier_detect_arbitrary(data=data,col='Fare',upper_fence=300,lower_fence=5)\n",
    "print('Upper bound:',para[0],'\\nLower bound:',para[1])\n",
    "# check the 19 found outliers\n",
    "data.loc[index,'Fare'].sort_values()"
   ]
  },
  {
   "cell_type": "code",
   "execution_count": 25,
   "metadata": {},
   "outputs": [
    {
     "name": "stdout",
     "output_type": "stream",
     "text": [
      "Num of outlier detected: 31\n",
      "Proportion of outlier detected 0.03479236812570146\n",
      "Upper bound: 146.448 \n",
      "Lower bound: -107.53760000000001\n"
     ]
    },
    {
     "data": {
      "text/plain": [
       "31     146.5208\n",
       "195    146.5208\n",
       "305    151.5500\n",
       "708    151.5500\n",
       "297    151.5500\n",
       "498    151.5500\n",
       "609    153.4625\n",
       "332    153.4625\n",
       "268    153.4625\n",
       "318    164.8667\n",
       "856    164.8667\n",
       "730    211.3375\n",
       "779    211.3375\n",
       "689    211.3375\n",
       "377    211.5000\n",
       "527    221.7792\n",
       "700    227.5250\n",
       "716    227.5250\n",
       "557    227.5250\n",
       "380    227.5250\n",
       "299    247.5208\n",
       "118    247.5208\n",
       "311    262.3750\n",
       "742    262.3750\n",
       "341    263.0000\n",
       "88     263.0000\n",
       "438    263.0000\n",
       "27     263.0000\n",
       "679    512.3292\n",
       "258    512.3292\n",
       "737    512.3292\n",
       "Name: Fare, dtype: float64"
      ]
     },
     "execution_count": 25,
     "metadata": {},
     "output_type": "execute_result"
    }
   ],
   "source": [
    "# detect outlier: IQR method\n",
    "def outlier_detect_IQR(data,col,threshold=3):\n",
    "    '''\n",
    "    outlier detection by Interquartile Ranges Rule, also known as Tukey's test. \n",
    "    calculate the IQR ( 75th quantile - 25th quantile) \n",
    "    and the 25th 75th quantile. \n",
    "    Any value beyond:\n",
    "        upper bound = 75th quantile + （IQR * threshold）\n",
    "        lower bound = 25th quantile - （IQR * threshold）   \n",
    "    are regarded as outliers. Default threshold is 3.\n",
    "    '''\n",
    "     \n",
    "    IQR = data[col].quantile(0.75) - data[col].quantile(0.25)\n",
    "    Lower_fence = data[col].quantile(0.25) - (IQR * threshold)\n",
    "    Upper_fence = data[col].quantile(0.75) + (IQR * threshold)\n",
    "    para = (Upper_fence, Lower_fence)\n",
    "    tmp = pd.concat([data[col]>Upper_fence,data[col]<Lower_fence],axis=1)\n",
    "    outlier_index = tmp.any(axis=1)\n",
    "    print('Num of outlier detected:',outlier_index.value_counts()[1])\n",
    "    print('Proportion of outlier detected',outlier_index.value_counts()[1]/len(outlier_index))\n",
    "    return outlier_index, para\n",
    "\n",
    "index,para = outlier_detect_IQR(data=data,col='Fare',threshold=5)\n",
    "print('Upper bound:',para[0],'\\nLower bound:',para[1])\n",
    "# check the 31 found outliers\n",
    "data.loc[index,'Fare'].sort_values()"
   ]
  },
  {
   "cell_type": "code",
   "execution_count": 26,
   "metadata": {},
   "outputs": [
    {
     "name": "stdout",
     "output_type": "stream",
     "text": [
      "Num of outlier detected: 20\n",
      "Proportion of outlier detected 0.02244668911335578\n",
      "Upper bound: 181.2844937601173 \n",
      "Lower bound: -116.87607782296811\n"
     ]
    },
    {
     "data": {
      "text/plain": [
       "779    211.3375\n",
       "730    211.3375\n",
       "689    211.3375\n",
       "377    211.5000\n",
       "527    221.7792\n",
       "716    227.5250\n",
       "700    227.5250\n",
       "380    227.5250\n",
       "557    227.5250\n",
       "118    247.5208\n",
       "299    247.5208\n",
       "311    262.3750\n",
       "742    262.3750\n",
       "27     263.0000\n",
       "341    263.0000\n",
       "88     263.0000\n",
       "438    263.0000\n",
       "258    512.3292\n",
       "737    512.3292\n",
       "679    512.3292\n",
       "Name: Fare, dtype: float64"
      ]
     },
     "execution_count": 26,
     "metadata": {},
     "output_type": "execute_result"
    }
   ],
   "source": [
    "# detect outlier: Mean and Standard Deviation Method\n",
    "\n",
    "def outlier_detect_mean_std(data,col,threshold=3):\n",
    "    '''\n",
    "    outlier detection by Mean and Standard Deviation Method.\n",
    "    If a value is a certain number(called threshold) of standard deviations away \n",
    "    from the mean, that data point is identified as an outlier. \n",
    "    Default threshold is 3.\n",
    "\n",
    "    This method can fail to detect outliers because the outliers increase the standard deviation. \n",
    "    The more extreme the outlier, the more the standard deviation is affected.\n",
    "    '''\n",
    "   \n",
    "    Upper_fence = data[col].mean() + threshold * data[col].std()\n",
    "    Lower_fence = data[col].mean() - threshold * data[col].std()   \n",
    "    para = (Upper_fence, Lower_fence)   \n",
    "    tmp = pd.concat([data[col]>Upper_fence,data[col]<Lower_fence],axis=1)\n",
    "    outlier_index = tmp.any(axis=1)\n",
    "    print('Num of outlier detected:',outlier_index.value_counts()[1])\n",
    "    print('Proportion of outlier detected',outlier_index.value_counts()[1]/len(outlier_index))\n",
    "    return outlier_index, para\n",
    "\n",
    "index,para = outlier_detect_mean_std(data=data,col='Fare',threshold=3)\n",
    "print('Upper bound:',para[0],'\\nLower bound:',para[1])\n",
    "# check the 20 found outliers\n",
    "data.loc[index,'Fare'].sort_values()"
   ]
  },
  {
   "cell_type": "code",
   "execution_count": 27,
   "metadata": {},
   "outputs": [
    {
     "name": "stdout",
     "output_type": "stream",
     "text": [
      "Num of outlier detected: 160\n",
      "Proportion of outlier detected 0.17957351290684623\n"
     ]
    },
    {
     "data": {
      "text/plain": [
       "867     50.4958\n",
       "571     51.4792\n",
       "6       51.8625\n",
       "457     51.8625\n",
       "669     52.0000\n",
       "         ...   \n",
       "27     263.0000\n",
       "438    263.0000\n",
       "737    512.3292\n",
       "679    512.3292\n",
       "258    512.3292\n",
       "Name: Fare, Length: 160, dtype: float64"
      ]
     },
     "execution_count": 27,
     "metadata": {},
     "output_type": "execute_result"
    }
   ],
   "source": [
    "# detect outlier: MAD method\n",
    "def outlier_detect_MAD(data,col,threshold=3.5):\n",
    "    \"\"\"\n",
    "    outlier detection by Median and Median Absolute Deviation Method (MAD)\n",
    "    The median of the residuals is calculated. Then, the difference is calculated between each historical value and this median. \n",
    "    These differences are expressed as their absolute values, and a new median is calculated and multiplied by \n",
    "    an empirically derived constant to yield the median absolute deviation (MAD). \n",
    "    If a value is a certain number of MAD away from the median of the residuals, \n",
    "    that value is classified as an outlier. The default threshold is 3 MAD.\n",
    "    \n",
    "    This method is generally more effective than the mean and standard deviation method for detecting outliers, \n",
    "    but it can be too aggressive in classifying values that are not really extremely different. \n",
    "    Also, if more than 50% of the data points have the same value, MAD is computed to be 0, \n",
    "    so any value different from the residual median is classified as an outlier.\n",
    "    \"\"\"\n",
    "    \n",
    "    median = data[col].median()\n",
    "    median_absolute_deviation = np.median([np.abs(y - median) for y in data[col]])\n",
    "    modified_z_scores = pd.Series([0.6745 * (y - median) / median_absolute_deviation for y in data[col]])\n",
    "    outlier_index = np.abs(modified_z_scores) > threshold\n",
    "    print('Num of outlier detected:',outlier_index.value_counts()[1])\n",
    "    print('Proportion of outlier detected',outlier_index.value_counts()[1]/len(outlier_index))\n",
    "    return outlier_index\n",
    "\n",
    "# too aggressive for our dataset, about 18% of cases are detected as outliers.\n",
    "index = outlier_detect_MAD(data=data,col='Fare',threshold=3.5)\n",
    "data.loc[index,'Fare'].sort_values()"
   ]
  },
  {
   "cell_type": "code",
   "execution_count": 28,
   "metadata": {},
   "outputs": [
    {
     "name": "stdout",
     "output_type": "stream",
     "text": [
      "Num of outlier detected: 19\n",
      "Proportion of outlier detected 0.02132435465768799\n",
      "Upper bound: 300 \n",
      "Lower bound: 5\n",
      "before handling outlier:\n",
      "     Survived  Pclass     Sex   Age  SibSp      Fare\n",
      "255         1       3  female  29.0      0   15.2458\n",
      "256         1       1  female   NaN      0   79.2000\n",
      "257         1       1  female  30.0      0   86.5000\n",
      "258         1       1  female  35.0      0  512.3292\n",
      "259         1       2  female  50.0      0   26.0000\n",
      "260         0       3    male   NaN      0    7.7500\n",
      "261         1       3    male   3.0      4   31.3875\n",
      "262         0       1    male  52.0      1   79.6500\n",
      "263         0       1    male  40.0      0    0.0000\n",
      "264         0       3  female   NaN      0    7.7500\n",
      "265         0       2    male  36.0      0   10.5000\n",
      "266         0       3    male  16.0      4   39.6875\n",
      "267         1       3    male  25.0      1    7.7750\n",
      "268         1       1  female  58.0      0  153.4625\n",
      "269         1       1  female  35.0      0  135.6333\n",
      "270         0       1    male   NaN      0   31.0000\n",
      "271         1       3    male  25.0      0    0.0000\n",
      "272         1       2  female  41.0      0   19.5000\n",
      "273         0       1    male  37.0      0   29.7000\n",
      "274         1       3  female   NaN      0    7.7500\n",
      "after handling outlier:\n",
      "     Survived  Pclass     Sex   Age  SibSp      Fare\n",
      "255         1       3  female  29.0      0   15.2458\n",
      "256         1       1  female   NaN      0   79.2000\n",
      "257         1       1  female  30.0      0   86.5000\n",
      "258         1       1  female  35.0      0 -999.0000\n",
      "259         1       2  female  50.0      0   26.0000\n",
      "260         0       3    male   NaN      0    7.7500\n",
      "261         1       3    male   3.0      4   31.3875\n",
      "262         0       1    male  52.0      1   79.6500\n",
      "263         0       1    male  40.0      0 -999.0000\n",
      "264         0       3  female   NaN      0    7.7500\n",
      "265         0       2    male  36.0      0   10.5000\n",
      "266         0       3    male  16.0      4   39.6875\n",
      "267         1       3    male  25.0      1    7.7750\n",
      "268         1       1  female  58.0      0  153.4625\n",
      "269         1       1  female  35.0      0  135.6333\n",
      "270         0       1    male   NaN      0   31.0000\n",
      "271         1       3    male  25.0      0 -999.0000\n",
      "272         1       2  female  41.0      0   19.5000\n",
      "273         0       1    male  37.0      0   29.7000\n",
      "274         1       3  female   NaN      0    7.7500\n"
     ]
    }
   ],
   "source": [
    "# handle outlier: impute_outlier_with_arbitrary\n",
    "def impute_outlier_with_arbitrary(data,outlier_index,value,col=[]):\n",
    "    \"\"\"\n",
    "    impute outliers with arbitrary value\n",
    "    \"\"\"\n",
    "    \n",
    "    data_copy = data.copy(deep=True)\n",
    "    for i in col:\n",
    "        data_copy.loc[outlier_index,i] = value\n",
    "    return data_copy\n",
    "index,para = outlier_detect_arbitrary(data=data,col='Fare',upper_fence=300,lower_fence=5)\n",
    "print('Upper bound:',para[0],'\\nLower bound:',para[1])\n",
    "print('before handling outlier:')\n",
    "print(data[255:275])\n",
    "print('after handling outlier:')\n",
    "data2 = impute_outlier_with_arbitrary(data=data,outlier_index=index, value=-999,col=['Fare'])\n",
    "print(data2[255:275])"
   ]
  },
  {
   "cell_type": "code",
   "execution_count": 30,
   "metadata": {},
   "outputs": [
    {
     "name": "stdout",
     "output_type": "stream",
     "text": [
      "Num of outlier detected: 19\n",
      "Proportion of outlier detected 0.02132435465768799\n",
      "Upper bound: 300 \n",
      "Lower bound: 5\n",
      "before handling outlier:\n",
      "     Survived  Pclass     Sex   Age  SibSp      Fare\n",
      "255         1       3  female  29.0      0   15.2458\n",
      "256         1       1  female   NaN      0   79.2000\n",
      "257         1       1  female  30.0      0   86.5000\n",
      "258         1       1  female  35.0      0  512.3292\n",
      "259         1       2  female  50.0      0   26.0000\n",
      "260         0       3    male   NaN      0    7.7500\n",
      "261         1       3    male   3.0      4   31.3875\n",
      "262         0       1    male  52.0      1   79.6500\n",
      "263         0       1    male  40.0      0    0.0000\n",
      "264         0       3  female   NaN      0    7.7500\n",
      "265         0       2    male  36.0      0   10.5000\n",
      "266         0       3    male  16.0      4   39.6875\n",
      "267         1       3    male  25.0      1    7.7750\n",
      "268         1       1  female  58.0      0  153.4625\n",
      "269         1       1  female  35.0      0  135.6333\n",
      "270         0       1    male   NaN      0   31.0000\n",
      "271         1       3    male  25.0      0    0.0000\n",
      "272         1       2  female  41.0      0   19.5000\n",
      "273         0       1    male  37.0      0   29.7000\n",
      "274         1       3  female   NaN      0    7.7500\n",
      "after handling outlier:\n",
      "     Survived  Pclass     Sex   Age  SibSp      Fare\n",
      "255         1       3  female  29.0      0   15.2458\n",
      "256         1       1  female   NaN      0   79.2000\n",
      "257         1       1  female  30.0      0   86.5000\n",
      "258         1       1  female  35.0      0  300.0000\n",
      "259         1       2  female  50.0      0   26.0000\n",
      "260         0       3    male   NaN      0    7.7500\n",
      "261         1       3    male   3.0      4   31.3875\n",
      "262         0       1    male  52.0      1   79.6500\n",
      "263         0       1    male  40.0      0    5.0000\n",
      "264         0       3  female   NaN      0    7.7500\n",
      "265         0       2    male  36.0      0   10.5000\n",
      "266         0       3    male  16.0      4   39.6875\n",
      "267         1       3    male  25.0      1    7.7750\n",
      "268         1       1  female  58.0      0  153.4625\n",
      "269         1       1  female  35.0      0  135.6333\n",
      "270         0       1    male   NaN      0   31.0000\n",
      "271         1       3    male  25.0      0    5.0000\n",
      "272         1       2  female  41.0      0   19.5000\n",
      "273         0       1    male  37.0      0   29.7000\n",
      "274         1       3  female   NaN      0    7.7500\n"
     ]
    }
   ],
   "source": [
    "# handle outlier: windsorization \n",
    "def windsorization(data,col,para,strategy='both'):\n",
    "    \"\"\"\n",
    "    top-coding & bottom coding (capping the maximum of a distribution at an arbitrarily set value,vice versa)\n",
    "    \"\"\"\n",
    "    \n",
    "    data_copy = data.copy(deep=True)  \n",
    "    if strategy == 'both':\n",
    "        data_copy.loc[data_copy[col]>para[0],col] = para[0]\n",
    "        data_copy.loc[data_copy[col]<para[1],col] = para[1]\n",
    "    elif strategy == 'top':\n",
    "        data_copy.loc[data_copy[col]>para[0],col] = para[0]\n",
    "    elif strategy == 'bottom':\n",
    "        data_copy.loc[data_copy[col]<para[1],col] = para[1]  \n",
    "    return data_copy\n",
    "\n",
    "# use any of the detection method above\n",
    "index,para = outlier_detect_arbitrary(data,'Fare',300,5)\n",
    "print('Upper bound:',para[0],'\\nLower bound:',para[1])\n",
    "print('before handling outlier:')\n",
    "print(data[255:275])\n",
    "print('after handling outlier:')\n",
    "# see index 258,263,271 have been replaced with top/bottom coding\n",
    "data3 = windsorization(data=data,col='Fare',para=para,strategy='both')\n",
    "print(data3[255:275])"
   ]
  },
  {
   "cell_type": "code",
   "execution_count": 29,
   "metadata": {},
   "outputs": [
    {
     "name": "stdout",
     "output_type": "stream",
     "text": [
      "Num of outlier detected: 19\n",
      "Proportion of outlier detected 0.02132435465768799\n",
      "Upper bound: 300 \n",
      "Lower bound: 5\n",
      "263.0\n",
      "5.0\n"
     ]
    }
   ],
   "source": [
    "# handle outlier: drop outlier\n",
    "def drop_outlier(data,outlier_index):\n",
    "    \"\"\"\n",
    "    drop the cases that are outliers\n",
    "    \"\"\"\n",
    "    \n",
    "    data_copy = data[~outlier_index]\n",
    "    return data_copy\n",
    "# use any of the detection method above\n",
    "index,para = outlier_detect_arbitrary(data,'Fare',300,5)\n",
    "print('Upper bound:',para[0],'\\nLower bound:',para[1])\n",
    "\n",
    "# drop the outlier.\n",
    "# we can see no more observations have value >300 or <5. They've been removed.\n",
    "data4 = drop_outlier(data=data,outlier_index=index)\n",
    "print(data4.Fare.max())\n",
    "print(data4.Fare.min())"
   ]
  },
  {
   "cell_type": "code",
   "execution_count": 30,
   "metadata": {},
   "outputs": [
    {
     "name": "stdout",
     "output_type": "stream",
     "text": [
      "Num of outlier detected: 19\n",
      "Proportion of outlier detected 0.02132435465768799\n",
      "Upper bound: 300 \n",
      "Lower bound: 5\n",
      "     Survived  Pclass     Sex   Age  SibSp        Fare\n",
      "255         1       3  female  29.0      0   15.245800\n",
      "256         1       1  female   NaN      0   79.200000\n",
      "257         1       1  female  30.0      0   86.500000\n",
      "258         1       1  female  35.0      0   32.204208\n",
      "259         1       2  female  50.0      0   26.000000\n",
      "260         0       3    male   NaN      0    7.750000\n",
      "261         1       3    male   3.0      4   31.387500\n",
      "262         0       1    male  52.0      1   79.650000\n",
      "263         0       1    male  40.0      0   32.204208\n",
      "264         0       3  female   NaN      0    7.750000\n",
      "265         0       2    male  36.0      0   10.500000\n",
      "266         0       3    male  16.0      4   39.687500\n",
      "267         1       3    male  25.0      1    7.775000\n",
      "268         1       1  female  58.0      0  153.462500\n",
      "269         1       1  female  35.0      0  135.633300\n",
      "270         0       1    male   NaN      0   31.000000\n",
      "271         1       3    male  25.0      0   32.204208\n",
      "272         1       2  female  41.0      0   19.500000\n",
      "273         0       1    male  37.0      0   29.700000\n",
      "274         1       3  female   NaN      0    7.750000\n"
     ]
    }
   ],
   "source": [
    "# handle outlier: impute with mean \n",
    "def impute_outlier_with_avg(data,col,outlier_index,strategy='mean'):\n",
    "    \"\"\"\n",
    "    impute outlier with mean/median/most frequent values of that variable.\n",
    "    \"\"\"\n",
    "    \n",
    "    data_copy = data.copy(deep=True)\n",
    "    if strategy=='mean':\n",
    "        data_copy.loc[outlier_index,col] = data_copy[col].mean()\n",
    "    elif strategy=='median':\n",
    "        data_copy.loc[outlier_index,col] = data_copy[col].median()\n",
    "    elif strategy=='mode':\n",
    "        data_copy.loc[outlier_index,col] = data_copy[col].mode()[0]   \n",
    "        \n",
    "    return data_copy\n",
    "# use any of the detection method above\n",
    "index,para = outlier_detect_arbitrary(data,'Fare',300,5)\n",
    "print('Upper bound:',para[0],'\\nLower bound:',para[1])\n",
    "# see index 258,263,271 have been replaced with mean\n",
    "\n",
    "data5 = impute_outlier_with_avg(data=data,col='Fare',\n",
    "                                   outlier_index=index,strategy='mean')\n",
    "print(data5[255:275])"
   ]
  },
  {
   "cell_type": "markdown",
   "metadata": {},
   "source": [
    "# Feature Engineering\n",
    "\n"
   ]
  },
  {
   "cell_type": "code",
   "execution_count": 31,
   "metadata": {},
   "outputs": [
    {
     "name": "stdout",
     "output_type": "stream",
     "text": [
      "(623, 6) (268, 6)\n"
     ]
    }
   ],
   "source": [
    "# Feature scaling\n",
    "from sklearn.model_selection import train_test_split\n",
    "use_cols = [\n",
    "    'Pclass', 'Sex', 'Age', 'Fare', 'SibSp',\n",
    "    'Survived'\n",
    "]\n",
    "\n",
    "data = pd.read_csv('./dataset/titanic.csv', usecols=use_cols)\n",
    "X_train, X_test, y_train, y_test = train_test_split(data, data.Survived, test_size=0.3,\n",
    "                                                    random_state=0)\n",
    "print(X_train.shape, X_test.shape)"
   ]
  },
  {
   "cell_type": "code",
   "execution_count": 32,
   "metadata": {},
   "outputs": [
    {
     "name": "stdout",
     "output_type": "stream",
     "text": [
      "     Survived  Pclass     Sex   Age  SibSp     Fare  Fare_zscore\n",
      "857         1       1    male  51.0      0  26.5500    -0.122530\n",
      "52          1       1  female  49.0      1  76.7292     0.918124\n",
      "386         0       3    male   1.0      5  46.9000     0.299503\n",
      "124         0       1    male  54.0      0  77.2875     0.929702\n",
      "578         0       3  female   NaN      1  14.4583    -0.373297\n",
      "549         1       2    male   8.0      1  36.7500     0.089005\n",
      "5.916437306188636e-17\n",
      "1.0008035356861\n"
     ]
    }
   ],
   "source": [
    "# feature scaling: Z-score normalization\n",
    "from sklearn.preprocessing import StandardScaler\n",
    "ss = StandardScaler().fit(X_train[['Fare']])\n",
    "X_train_copy = X_train.copy(deep=True)\n",
    "X_train_copy['Fare_zscore'] = ss.transform(X_train_copy[['Fare']])\n",
    "print(X_train_copy.head(6))\n",
    "# check if it is with mean=0 std=1\n",
    "print(X_train_copy['Fare_zscore'].mean())\n",
    "print(X_train_copy['Fare_zscore'].std())"
   ]
  },
  {
   "cell_type": "code",
   "execution_count": 33,
   "metadata": {},
   "outputs": [
    {
     "name": "stdout",
     "output_type": "stream",
     "text": [
      "     Survived  Pclass     Sex   Age  SibSp     Fare  Fare_minmax\n",
      "857         1       1    male  51.0      0  26.5500     0.051822\n",
      "52          1       1  female  49.0      1  76.7292     0.149765\n",
      "386         0       3    male   1.0      5  46.9000     0.091543\n",
      "124         0       1    male  54.0      0  77.2875     0.150855\n",
      "578         0       3  female   NaN      1  14.4583     0.028221\n",
      "549         1       2    male   8.0      1  36.7500     0.071731\n",
      "1.0\n",
      "0.0\n"
     ]
    }
   ],
   "source": [
    "# feature scaling: min-max normaliztion \n",
    "from sklearn.preprocessing import MinMaxScaler\n",
    "mms = MinMaxScaler().fit(X_train[['Fare']])\n",
    "X_train_copy = X_train.copy(deep=True)\n",
    "X_train_copy['Fare_minmax'] = mms.transform(X_train_copy[['Fare']])\n",
    "print(X_train_copy.head(6))\n",
    "# check the range of Fare_minmax\n",
    "print(X_train_copy['Fare_minmax'].max())\n",
    "print(X_train_copy['Fare_minmax'].min())"
   ]
  },
  {
   "cell_type": "code",
   "execution_count": 34,
   "metadata": {},
   "outputs": [
    {
     "name": "stdout",
     "output_type": "stream",
     "text": [
      "     Survived  Pclass     Sex   Age  SibSp     Fare  Fare_robust\n",
      "857         1       1    male  51.0      0  26.5500     0.492275\n",
      "52          1       1  female  49.0      1  76.7292     2.630973\n",
      "386         0       3    male   1.0      5  46.9000     1.359616\n",
      "124         0       1    male  54.0      0  77.2875     2.654768\n",
      "578         0       3  female   NaN      1  14.4583    -0.023088\n",
      "549         1       2    male   8.0      1  36.7500     0.927011\n"
     ]
    }
   ],
   "source": [
    "# feature scaling: robust normaliztion \n",
    "from sklearn.preprocessing import RobustScaler\n",
    "rs = RobustScaler().fit(X_train[['Fare']])\n",
    "X_train_copy = X_train.copy(deep=True)\n",
    "X_train_copy['Fare_robust'] = rs.transform(X_train_copy[['Fare']])\n",
    "print(X_train_copy.head(6))"
   ]
  },
  {
   "cell_type": "code",
   "execution_count": 6,
   "metadata": {},
   "outputs": [
    {
     "name": "stdout",
     "output_type": "stream",
     "text": [
      "   Survived  Pclass     Sex   Age  SibSp     Fare\n",
      "0         0       3    male  22.0      1   7.2500\n",
      "1         1       1  female  38.0      1  71.2833\n",
      "2         1       3  female  26.0      0   7.9250\n",
      "3         1       1  female  35.0      1  53.1000\n",
      "4         0       3    male  35.0      0   8.0500\n",
      "5         0       3    male   NaN      0   8.4583\n",
      "6         0       1    male  54.0      0  51.8625\n",
      "7         0       3    male   2.0      3  21.0750\n",
      "8         1       3  female  27.0      0  11.1333\n",
      "9         1       2  female  14.0      1  30.0708\n",
      "(623, 6) (268, 6)\n"
     ]
    }
   ],
   "source": [
    "# feature Discretize\n",
    "import pandas as pd\n",
    "from sklearn.model_selection import train_test_split\n",
    "use_cols = [\n",
    "    'Pclass', 'Sex', 'Age', 'Fare', 'SibSp',\n",
    "    'Survived'\n",
    "]\n",
    "\n",
    "data = pd.read_csv('./dataset/titanic.csv', usecols=use_cols)\n",
    "\n",
    "X_train, X_test, y_train, y_test = train_test_split(data, data.Survived, test_size=0.3,\n",
    "                                                    random_state=0)\n",
    "print(data.head(10))\n",
    "print(X_train.shape, X_test.shape)"
   ]
  },
  {
   "cell_type": "code",
   "execution_count": 35,
   "metadata": {},
   "outputs": [
    {
     "name": "stdout",
     "output_type": "stream",
     "text": [
      "[array([  0.    , 170.7764, 341.5528, 512.3292])]\n",
      "0.0    610\n",
      "1.0     11\n",
      "2.0      2\n",
      "Name: 0, dtype: int64\n",
      "     Survived  Pclass     Sex   Age  SibSp      Fare  Fare_equal_width\n",
      "857         1       1    male  51.0      0   26.5500               0.0\n",
      "52          1       1  female  49.0      1   76.7292               0.0\n",
      "386         0       3    male   1.0      5   46.9000               0.0\n",
      "124         0       1    male  54.0      0   77.2875               0.0\n",
      "578         0       3  female   NaN      1   14.4583               0.0\n",
      "549         1       2    male   8.0      1   36.7500               0.0\n",
      "118         0       1    male  24.0      0  247.5208               1.0\n",
      "12          0       3    male  20.0      0    8.0500               0.0\n",
      "157         0       3    male  30.0      0    8.0500               0.0\n",
      "127         1       3    male  24.0      0    7.1417               0.0\n"
     ]
    }
   ],
   "source": [
    "# Discretize: Equal width binning\n",
    "from sklearn.preprocessing import KBinsDiscretizer\n",
    "enc_equal_width = KBinsDiscretizer(n_bins=3,encode='ordinal',strategy='uniform').fit(X_train[['Fare']])\n",
    "# equal width for every bins\n",
    "print(enc_equal_width.bin_edges_)\n",
    "result = enc_equal_width.transform(X_train[['Fare']])\n",
    "print(pd.DataFrame(result)[0].value_counts())\n",
    "\n",
    "# add the new discretized variable\n",
    "X_train_copy = X_train.copy(deep=True)\n",
    "X_train_copy['Fare_equal_width'] = enc_equal_width.transform(X_train[['Fare']])\n",
    "print(X_train_copy.head(10))"
   ]
  },
  {
   "cell_type": "code",
   "execution_count": 9,
   "metadata": {},
   "outputs": [
    {
     "name": "stdout",
     "output_type": "stream",
     "text": [
      "[array([  0.        ,   8.69303333,  26.2875    , 512.3292    ])]\n",
      "2.0    209\n",
      "0.0    208\n",
      "1.0    206\n",
      "Name: 0, dtype: int64\n",
      "     Survived  Pclass     Sex   Age  SibSp      Fare  Fare_equal_freq\n",
      "857         1       1    male  51.0      0   26.5500              2.0\n",
      "52          1       1  female  49.0      1   76.7292              2.0\n",
      "386         0       3    male   1.0      5   46.9000              2.0\n",
      "124         0       1    male  54.0      0   77.2875              2.0\n",
      "578         0       3  female   NaN      1   14.4583              1.0\n",
      "549         1       2    male   8.0      1   36.7500              2.0\n",
      "118         0       1    male  24.0      0  247.5208              2.0\n",
      "12          0       3    male  20.0      0    8.0500              0.0\n",
      "157         0       3    male  30.0      0    8.0500              0.0\n",
      "127         1       3    male  24.0      0    7.1417              0.0\n"
     ]
    }
   ],
   "source": [
    "enc_equal_freq = KBinsDiscretizer(n_bins=3,encode='ordinal',strategy='quantile').fit(X_train[['Fare']])\n",
    "# check the bin edges\n",
    "print(enc_equal_freq.bin_edges_)\n",
    "# equal number of case for every bins\n",
    "result = enc_equal_freq.transform(X_train[['Fare']])\n",
    "print(pd.DataFrame(result)[0].value_counts())\n",
    "\n",
    "# add the new discretized variable\n",
    "X_train_copy = X_train.copy(deep=True)\n",
    "X_train_copy['Fare_equal_freq'] = enc_equal_freq.transform(X_train[['Fare']])\n",
    "print(X_train_copy.head(10))"
   ]
  },
  {
   "cell_type": "code",
   "execution_count": 10,
   "metadata": {},
   "outputs": [
    {
     "name": "stdout",
     "output_type": "stream",
     "text": [
      "[array([  0.        ,  93.5271531 , 338.08506324, 512.3292    ])]\n",
      "0.0    587\n",
      "1.0     34\n",
      "2.0      2\n",
      "Name: 0, dtype: int64\n",
      "     Survived  Pclass     Sex   Age  SibSp      Fare  Fare_kmeans\n",
      "857         1       1    male  51.0      0   26.5500          0.0\n",
      "52          1       1  female  49.0      1   76.7292          0.0\n",
      "386         0       3    male   1.0      5   46.9000          0.0\n",
      "124         0       1    male  54.0      0   77.2875          0.0\n",
      "578         0       3  female   NaN      1   14.4583          0.0\n",
      "549         1       2    male   8.0      1   36.7500          0.0\n",
      "118         0       1    male  24.0      0  247.5208          1.0\n",
      "12          0       3    male  20.0      0    8.0500          0.0\n",
      "157         0       3    male  30.0      0    8.0500          0.0\n",
      "127         1       3    male  24.0      0    7.1417          0.0\n"
     ]
    }
   ],
   "source": [
    "enc_kmeans = KBinsDiscretizer(n_bins=3,encode='ordinal',strategy='kmeans').fit(X_train[['Fare']])\n",
    "# check the bin edges\n",
    "print(enc_kmeans.bin_edges_)\n",
    "result = enc_kmeans.transform(X_train[['Fare']])\n",
    "print(pd.DataFrame(result)[0].value_counts())\n",
    "\n",
    "# add the new discretized variable\n",
    "X_train_copy = X_train.copy(deep=True)\n",
    "X_train_copy['Fare_kmeans'] = enc_kmeans.transform(X_train[['Fare']])\n",
    "print(X_train_copy.head(10))"
   ]
  },
  {
   "cell_type": "code",
   "execution_count": 38,
   "metadata": {},
   "outputs": [
    {
     "name": "stdout",
     "output_type": "stream",
     "text": [
      "   Survived  Pclass     Sex   Age  SibSp     Fare\n",
      "0         0       3    male  22.0      1   7.2500\n",
      "1         1       1  female  38.0      1  71.2833\n",
      "2         1       3  female  26.0      0   7.9250\n",
      "3         1       1  female  35.0      1  53.1000\n",
      "4         0       3    male  35.0      0   8.0500\n",
      "5         0       3    male   NaN      0   8.4583\n",
      "6         0       1    male  54.0      0  51.8625\n",
      "7         0       3    male   2.0      3  21.0750\n",
      "8         1       3  female  27.0      0  11.1333\n",
      "9         1       2  female  14.0      1  30.0708\n",
      "(623, 6) (268, 6)\n"
     ]
    }
   ],
   "source": [
    "# feature Encoding\n",
    "import pandas as pd\n",
    "import numpy as np\n",
    "from sklearn.model_selection import train_test_split\n",
    "use_cols = [\n",
    "    'Pclass', 'Sex', 'Age', 'Fare', 'SibSp',\n",
    "    'Survived'\n",
    "]\n",
    "\n",
    "data = pd.read_csv('./dataset/titanic.csv', usecols=use_cols)\n",
    "print(data.head(10))\n",
    "X_train, X_test, y_train, y_test = train_test_split(data, data.Survived, test_size=0.3,\n",
    "                                                    random_state=0)\n",
    "print(X_train.shape, X_test.shape)"
   ]
  },
  {
   "cell_type": "code",
   "execution_count": 39,
   "metadata": {},
   "outputs": [
    {
     "name": "stdout",
     "output_type": "stream",
     "text": [
      "   Survived  Pclass   Age  SibSp     Fare  Sex_female  Sex_male\n",
      "0         0       3  22.0      1   7.2500           0         1\n",
      "1         1       1  38.0      1  71.2833           1         0\n",
      "2         1       3  26.0      0   7.9250           1         0\n",
      "3         1       1  35.0      1  53.1000           1         0\n",
      "4         0       3  35.0      0   8.0500           0         1\n"
     ]
    }
   ],
   "source": [
    "# feature encoding:　One-hot encoding\n",
    "data1 = pd.get_dummies(data)\n",
    "print(data1.head())"
   ]
  },
  {
   "cell_type": "code",
   "execution_count": 40,
   "metadata": {},
   "outputs": [
    {
     "name": "stdout",
     "output_type": "stream",
     "text": [
      "   Survived  Pclass  Sex   Age  SibSp     Fare\n",
      "0         0       3    1  22.0      1   7.2500\n",
      "1         1       1    2  38.0      1  71.2833\n",
      "2         1       3    2  26.0      0   7.9250\n",
      "3         1       1    2  35.0      1  53.1000\n",
      "4         0       3    1  35.0      0   8.0500\n"
     ]
    }
   ],
   "source": [
    "# feature encoding:　One-hot encoding\n",
    "# replace the labels by some ordinal number if ordinal is meaningful\n",
    "# pip install category_encoders\n",
    "import category_encoders as ce\n",
    "ord_enc = ce.OrdinalEncoder(cols=['Sex']).fit(X_train,y_train)\n",
    "data4 = ord_enc.transform(data)\n",
    "print(data4.head(5))"
   ]
  },
  {
   "cell_type": "code",
   "execution_count": 41,
   "metadata": {},
   "outputs": [
    {
     "name": "stdout",
     "output_type": "stream",
     "text": [
      "   Survived  Pclass     Sex   Age  SibSp     Fare\n",
      "0         0       3    male  22.0      1   7.2500\n",
      "1         1       1  female  38.0      1  71.2833\n",
      "2         1       3  female  26.0      0   7.9250\n",
      "3         1       1  female  35.0      1  53.1000\n",
      "4         0       3    male  35.0      0   8.0500\n",
      "5         0       3    male   NaN      0   8.4583\n",
      "6         0       1    male  54.0      0  51.8625\n",
      "7         0       3    male   2.0      3  21.0750\n",
      "8         1       3  female  27.0      0  11.1333\n",
      "9         1       2  female  14.0      1  30.0708\n",
      "(623, 6) (268, 6)\n"
     ]
    }
   ],
   "source": [
    "# feature transformation\n",
    "\n",
    "import pandas as pd\n",
    "import numpy as np\n",
    "from sklearn.model_selection import train_test_split\n",
    "\n",
    "use_cols = [\n",
    "    'Pclass', 'Sex', 'Age', 'Fare', 'SibSp',\n",
    "    'Survived'\n",
    "]\n",
    "\n",
    "data = pd.read_csv('./dataset/titanic.csv', usecols=use_cols)\n",
    "X_train, X_test, y_train, y_test = train_test_split(data, data.Survived, test_size=0.3,\n",
    "                                                    random_state=0)\n",
    "print(data.head(10))\n",
    "print(X_train.shape, X_test.shape)"
   ]
  },
  {
   "cell_type": "code",
   "execution_count": 42,
   "metadata": {},
   "outputs": [
    {
     "name": "stdout",
     "output_type": "stream",
     "text": [
      "     Survived  Pclass     Sex   Age  SibSp      Fare  Fare_log\n",
      "857         1       1    male  51.0      0   26.5500  3.316003\n",
      "52          1       1  female  49.0      1   76.7292  4.353231\n",
      "386         0       3    male   1.0      5   46.9000  3.869116\n",
      "124         0       1    male  54.0      0   77.2875  4.360388\n",
      "578         0       3  female   NaN      1   14.4583  2.738146\n",
      "549         1       2    male   8.0      1   36.7500  3.630985\n",
      "118         0       1    male  24.0      0  247.5208  5.515527\n",
      "12          0       3    male  20.0      0    8.0500  2.202765\n",
      "157         0       3    male  30.0      0    8.0500  2.202765\n",
      "127         1       3    male  24.0      0    7.1417  2.096999\n"
     ]
    },
    {
     "data": {
      "text/plain": [
       "<AxesSubplot:>"
      ]
     },
     "execution_count": 42,
     "metadata": {},
     "output_type": "execute_result"
    },
    {
     "data": {
      "image/png": "[encoded data removed]",
      "text/plain": [
       "<Figure size 432x288 with 1 Axes>"
      ]
     },
     "metadata": {
      "needs_background": "light"
     },
     "output_type": "display_data"
    }
   ],
   "source": [
    "# Logarithmic transformation\n",
    "data_log =  X_train.copy(deep=True)\n",
    "data_log['Fare_log'] = np.log(data_log['Fare']+1)\n",
    "print(data_log.head(10))\n",
    "\n",
    "data_log['Fare_log'].hist()"
   ]
  },
  {
   "cell_type": "code",
   "execution_count": 43,
   "metadata": {},
   "outputs": [
    {
     "name": "stdout",
     "output_type": "stream",
     "text": [
      "     Survived  Pclass     Sex   Age  SibSp      Fare  Fare_rec\n",
      "857         1       1    male  51.0      0   26.5500  0.037665\n",
      "52          1       1  female  49.0      1   76.7292  0.013033\n",
      "386         0       3    male   1.0      5   46.9000  0.021322\n",
      "124         0       1    male  54.0      0   77.2875  0.012939\n",
      "578         0       3  female   NaN      1   14.4583  0.069164\n",
      "549         1       2    male   8.0      1   36.7500  0.027211\n",
      "118         0       1    male  24.0      0  247.5208  0.004040\n",
      "12          0       3    male  20.0      0    8.0500  0.124224\n",
      "157         0       3    male  30.0      0    8.0500  0.124224\n",
      "127         1       3    male  24.0      0    7.1417  0.140023\n"
     ]
    },
    {
     "data": {
      "text/plain": [
       "<AxesSubplot:>"
      ]
     },
     "execution_count": 43,
     "metadata": {},
     "output_type": "execute_result"
    },
    {
     "data": {
      "image/png": "[encoded data removed]",
      "text/plain": [
       "<Figure size 432x288 with 1 Axes>"
      ]
     },
     "metadata": {
      "needs_background": "light"
     },
     "output_type": "display_data"
    }
   ],
   "source": [
    "# Reciprocal transformation\n",
    "data_rec =  X_train.copy(deep=True)\n",
    "data_rec = data_rec[data_rec.Fare!=0] # Warning that x should not be 0\n",
    "data_rec['Fare_rec'] = 1/(data_rec['Fare'])\n",
    "print(data_rec.head(10))\n",
    "\n",
    "data_rec['Fare_rec'].hist()"
   ]
  },
  {
   "cell_type": "code",
   "execution_count": 44,
   "metadata": {},
   "outputs": [
    {
     "name": "stdout",
     "output_type": "stream",
     "text": [
      "     Survived  Pclass     Sex   Age  SibSp      Fare  Fare_rec\n",
      "857         1       1    male  51.0      0   26.5500  0.037665\n",
      "52          1       1  female  49.0      1   76.7292  0.013033\n",
      "386         0       3    male   1.0      5   46.9000  0.021322\n",
      "124         0       1    male  54.0      0   77.2875  0.012939\n",
      "578         0       3  female   NaN      1   14.4583  0.069164\n",
      "549         1       2    male   8.0      1   36.7500  0.027211\n",
      "118         0       1    male  24.0      0  247.5208  0.004040\n",
      "12          0       3    male  20.0      0    8.0500  0.124224\n",
      "157         0       3    male  30.0      0    8.0500  0.124224\n",
      "127         1       3    male  24.0      0    7.1417  0.140023\n"
     ]
    },
    {
     "data": {
      "text/plain": [
       "<AxesSubplot:>"
      ]
     },
     "execution_count": 44,
     "metadata": {},
     "output_type": "execute_result"
    },
    {
     "data": {
      "image/png": "[encoded data removed]",
      "text/plain": [
       "<Figure size 432x288 with 1 Axes>"
      ]
     },
     "metadata": {
      "needs_background": "light"
     },
     "output_type": "display_data"
    }
   ],
   "source": [
    "# Square root transformation\n",
    "data_square =  X_train.copy(deep=True)\n",
    "data_square['Fare_square'] = (data_square['Fare'])**(0.5)\n",
    "print(data_rec.head(10))\n",
    "\n",
    "data_square['Fare_square'].hist()"
   ]
  },
  {
   "cell_type": "code",
   "execution_count": 45,
   "metadata": {},
   "outputs": [
    {
     "name": "stdout",
     "output_type": "stream",
     "text": [
      "     Survived  Pclass     Sex   Age  SibSp      Fare  Fare_exp\n",
      "857         1       1    male  51.0      0   26.5500  1.926695\n",
      "52          1       1  female  49.0      1   76.7292  2.382276\n",
      "386         0       3    male   1.0      5   46.9000  2.158910\n",
      "124         0       1    male  54.0      0   77.2875  2.385733\n",
      "578         0       3  female   NaN      1   14.4583  1.706174\n",
      "549         1       2    male   8.0      1   36.7500  2.056134\n",
      "118         0       1    male  24.0      0  247.5208  3.011080\n",
      "12          0       3    male  20.0      0    8.0500  1.517606\n",
      "157         0       3    male  30.0      0    8.0500  1.517606\n",
      "127         1       3    male  24.0      0    7.1417  1.481700\n"
     ]
    },
    {
     "data": {
      "text/plain": [
       "<AxesSubplot:>"
      ]
     },
     "execution_count": 45,
     "metadata": {},
     "output_type": "execute_result"
    },
    {
     "data": {
      "image/png": "[encoded data removed]",
      "text/plain": [
       "<Figure size 432x288 with 1 Axes>"
      ]
     },
     "metadata": {
      "needs_background": "light"
     },
     "output_type": "display_data"
    }
   ],
   "source": [
    "# Exponential transformation\n",
    "data_exp =  X_train.copy(deep=True)\n",
    "data_exp['Fare_exp'] = (data_exp['Fare'])** 0.2\n",
    "print(data_exp.head(10))\n",
    "\n",
    "data_exp['Fare_exp'].hist()"
   ]
  },
  {
   "cell_type": "code",
   "execution_count": 46,
   "metadata": {},
   "outputs": [
    {
     "name": "stdout",
     "output_type": "stream",
     "text": [
      "     Survived  Pclass     Sex   Age  SibSp     Fare  Fare_boxcox\n",
      "857         1       1    male  51.0      0  26.5500     0.398696\n",
      "52          1       1  female  49.0      1  76.7292     1.401774\n",
      "386         0       3    male   1.0      5  46.9000     0.950718\n",
      "124         0       1    male  54.0      0  77.2875     1.408228\n",
      "578         0       3  female   NaN      1  14.4583    -0.222897\n",
      "549         1       2    male   8.0      1  36.7500     0.718007\n"
     ]
    },
    {
     "data": {
      "text/plain": [
       "<AxesSubplot:>"
      ]
     },
     "execution_count": 46,
     "metadata": {},
     "output_type": "execute_result"
    },
    {
     "data": {
      "image/png": "[encoded data removed]",
      "text/plain": [
       "<Figure size 432x288 with 1 Axes>"
      ]
     },
     "metadata": {
      "needs_background": "light"
     },
     "output_type": "display_data"
    }
   ],
   "source": [
    "# Box-cox transformation\n",
    "from sklearn.preprocessing import PowerTransformer\n",
    "pt = PowerTransformer().fit(X_train[['Fare']])\n",
    "data_box = X_train.copy(deep=True)\n",
    "data_box['Fare_boxcox'] = pt.transform(data_box[['Fare']])\n",
    "print(data_box.head(6))\n",
    "data_box['Fare_boxcox'].hist()"
   ]
  },
  {
   "cell_type": "code",
   "execution_count": 39,
   "metadata": {},
   "outputs": [
    {
     "name": "stdout",
     "output_type": "stream",
     "text": [
      "     Survived  Pclass     Sex   Age  SibSp     Fare   Fare_qt\n",
      "857         1       1    male  51.0      0  26.5500  0.470128\n",
      "52          1       1  female  49.0      1  76.7292  1.269732\n",
      "386         0       3    male   1.0      5  46.9000  0.841047\n",
      "124         0       1    male  54.0      0  77.2875  1.287991\n",
      "578         0       3  female   NaN      1  14.4583 -0.022167\n",
      "549         1       2    male   8.0      1  36.7500  0.744471\n"
     ]
    },
    {
     "name": "stderr",
     "output_type": "stream",
     "text": [
      "C:\\Users\\isaac\\Anaconda3\\envs\\test2\\lib\\site-packages\\sklearn\\preprocessing\\_data.py:2357: UserWarning: n_quantiles (1000) is greater than the total number of samples (623). n_quantiles is set to n_samples.\n",
      "  % (self.n_quantiles, n_samples))\n"
     ]
    },
    {
     "data": {
      "text/plain": [
       "<matplotlib.axes._subplots.AxesSubplot at 0x177dae5c128>"
      ]
     },
     "execution_count": 39,
     "metadata": {},
     "output_type": "execute_result"
    },
    {
     "data": {
      "image/png": "[encoded data removed]",
      "text/plain": [
       "<Figure size 432x288 with 1 Axes>"
      ]
     },
     "metadata": {
      "needs_background": "light"
     },
     "output_type": "display_data"
    }
   ],
   "source": [
    "# Quantile transformation\n",
    "from sklearn.preprocessing import QuantileTransformer\n",
    "qt = QuantileTransformer(output_distribution='normal').fit(X_train[['Fare']])\n",
    "data_qu = X_train.copy(deep=True)\n",
    "data_qu['Fare_qt'] = qt.transform(data_qu[['Fare']])\n",
    "print(data_qu.head(6))\n",
    "data_qu['Fare_qt'].hist()"
   ]
  },
  {
   "cell_type": "markdown",
   "metadata": {},
   "source": [
    "# Feature Selection"
   ]
  },
  {
   "cell_type": "code",
   "execution_count": 54,
   "metadata": {},
   "outputs": [
    {
     "name": "stdout",
     "output_type": "stream",
     "text": [
      "   mean radius  mean texture  mean perimeter  mean area  mean smoothness  \\\n",
      "0        17.99         10.38          122.80     1001.0          0.11840   \n",
      "1        20.57         17.77          132.90     1326.0          0.08474   \n",
      "2        19.69         21.25          130.00     1203.0          0.10960   \n",
      "3        11.42         20.38           77.58      386.1          0.14250   \n",
      "4        20.29         14.34          135.10     1297.0          0.10030   \n",
      "\n",
      "   mean compactness  mean concavity  mean concave points  mean symmetry  \\\n",
      "0           0.27760          0.3001              0.14710         0.2419   \n",
      "1           0.07864          0.0869              0.07017         0.1812   \n",
      "2           0.15990          0.1974              0.12790         0.2069   \n",
      "3           0.28390          0.2414              0.10520         0.2597   \n",
      "4           0.13280          0.1980              0.10430         0.1809   \n",
      "\n",
      "   mean fractal dimension  ...  worst texture  worst perimeter  worst area  \\\n",
      "0                 0.07871  ...          17.33           184.60      2019.0   \n",
      "1                 0.05667  ...          23.41           158.80      1956.0   \n",
      "2                 0.05999  ...          25.53           152.50      1709.0   \n",
      "3                 0.09744  ...          26.50            98.87       567.7   \n",
      "4                 0.05883  ...          16.67           152.20      1575.0   \n",
      "\n",
      "   worst smoothness  worst compactness  worst concavity  worst concave points  \\\n",
      "0            0.1622             0.6656           0.7119                0.2654   \n",
      "1            0.1238             0.1866           0.2416                0.1860   \n",
      "2            0.1444             0.4245           0.4504                0.2430   \n",
      "3            0.2098             0.8663           0.6869                0.2575   \n",
      "4            0.1374             0.2050           0.4000                0.1625   \n",
      "\n",
      "   worst symmetry  worst fractal dimension  target  \n",
      "0          0.4601                  0.11890     0.0  \n",
      "1          0.2750                  0.08902     0.0  \n",
      "2          0.3613                  0.08758     0.0  \n",
      "3          0.6638                  0.17300     0.0  \n",
      "4          0.2364                  0.07678     0.0  \n",
      "\n",
      "[5 rows x 31 columns]\n",
      "(455, 30) (114, 30)\n"
     ]
    }
   ],
   "source": [
    "from sklearn.datasets import load_breast_cancer\n",
    "data = load_breast_cancer()\n",
    "data = pd.DataFrame(np.c_[data['data'], data['target']],\n",
    "                  columns= np.append(data['feature_names'], ['target']))\n",
    "\n",
    "print(data.head(5))\n",
    "\n",
    "X_train, X_test, y_train, y_test = train_test_split(data.drop(labels=['target'], axis=1), \n",
    "                                                    data.target, test_size=0.2,\n",
    "                                                    random_state=0)\n",
    "print(X_train.shape, X_test.shape)"
   ]
  },
  {
   "cell_type": "code",
   "execution_count": 55,
   "metadata": {},
   "outputs": [
    {
     "name": "stdout",
     "output_type": "stream",
     "text": [
      "0  variables are found to be almost constant\n"
     ]
    }
   ],
   "source": [
    "def constant_feature_detect(data,threshold=0.98):\n",
    "    \"\"\" detect features that show the same value for the \n",
    "    majority/all of the observations (constant/quasi-constant features)\n",
    "    \n",
    "    Parameters\n",
    "    ----------\n",
    "    data : pd.Dataframe\n",
    "    threshold : threshold to identify the variable as constant\n",
    "        \n",
    "    Returns\n",
    "    -------\n",
    "    list of variables names\n",
    "    \"\"\"\n",
    "    \n",
    "    data_copy = data.copy(deep=True)\n",
    "    quasi_constant_feature = []\n",
    "    for feature in data_copy.columns:\n",
    "        predominant = (data_copy[feature].value_counts() / float(\n",
    "                      len(data_copy))).sort_values(ascending=False).values[0]\n",
    "        if predominant >= threshold:\n",
    "            quasi_constant_feature.append(feature)\n",
    "    print(len(quasi_constant_feature),' variables are found to be almost constant')    \n",
    "    return quasi_constant_feature\n",
    "\n",
    "quasi_constant_feature = constant_feature_detect(data=X_train,threshold=0.9)"
   ]
  },
  {
   "cell_type": "code",
   "execution_count": 56,
   "metadata": {},
   "outputs": [
    {
     "name": "stdout",
     "output_type": "stream",
     "text": [
      "1.0    0.923077\n",
      "0.0    0.068132\n",
      "2.0    0.008791\n",
      "Name: dummy, dtype: float64\n"
     ]
    }
   ],
   "source": [
    "# lets create a duumy variable that help us do the demonstration\n",
    "X_train['dummy'] = np.floor(X_train['worst smoothness']*10)\n",
    "# variable dummy has> 92% of the observations show one value, 1.0\n",
    "print(X_train.dummy.value_counts() / float(len(X_train)))"
   ]
  },
  {
   "cell_type": "code",
   "execution_count": 57,
   "metadata": {},
   "outputs": [
    {
     "name": "stdout",
     "output_type": "stream",
     "text": [
      "1  variables are found to be almost constant\n"
     ]
    },
    {
     "data": {
      "text/plain": [
       "['dummy']"
      ]
     },
     "execution_count": 57,
     "metadata": {},
     "output_type": "execute_result"
    }
   ],
   "source": [
    "quasi_constant_feature = constant_feature_detect(data=X_train,threshold=0.9)\n",
    "quasi_constant_feature"
   ]
  },
  {
   "cell_type": "code",
   "execution_count": 58,
   "metadata": {},
   "outputs": [
    {
     "name": "stdout",
     "output_type": "stream",
     "text": [
      "(455, 30)\n"
     ]
    }
   ],
   "source": [
    "# drop that variable\n",
    "X_train.drop(labels=quasi_constant_feature,axis=1,inplace=True)\n",
    "print(X_train.shape)"
   ]
  },
  {
   "cell_type": "code",
   "execution_count": 59,
   "metadata": {},
   "outputs": [],
   "source": [
    "def corr_feature_detect(data,threshold=0.8):\n",
    "    \"\"\" detect highly-correlated features of a Dataframe\n",
    "    Parameters\n",
    "    ----------\n",
    "    data : pd.Dataframe\n",
    "    threshold : threshold to identify the variable correlated\n",
    "        \n",
    "    Returns\n",
    "    -------\n",
    "    pairs of correlated variables\n",
    "    \"\"\"\n",
    "    \n",
    "    corrmat = data.corr()\n",
    "    corrmat = corrmat.abs().unstack() # absolute value of corr coef\n",
    "    corrmat = corrmat.sort_values(ascending=False)\n",
    "    corrmat = corrmat[corrmat >= threshold]\n",
    "    corrmat = corrmat[corrmat < 1] # remove the digonal\n",
    "    corrmat = pd.DataFrame(corrmat).reset_index()\n",
    "    corrmat.columns = ['feature1', 'feature2', 'corr']\n",
    "   \n",
    "    grouped_feature_ls = []\n",
    "    correlated_groups = []\n",
    "    \n",
    "    for feature in corrmat.feature1.unique():\n",
    "        if feature not in grouped_feature_ls:\n",
    "    \n",
    "            # find all features correlated to a single feature\n",
    "            correlated_block = corrmat[corrmat.feature1 == feature]\n",
    "            grouped_feature_ls = grouped_feature_ls + list(\n",
    "                correlated_block.feature2.unique()) + [feature]\n",
    "    \n",
    "            # append the block of features to the list\n",
    "            correlated_groups.append(correlated_block)\n",
    "    return correlated_groups"
   ]
  },
  {
   "cell_type": "code",
   "execution_count": 60,
   "metadata": {},
   "outputs": [
    {
     "name": "stdout",
     "output_type": "stream",
     "text": [
      "          feature1         feature2      corr\n",
      "0   mean perimeter      mean radius  0.998185\n",
      "7   mean perimeter        mean area  0.986692\n",
      "14  mean perimeter  worst perimeter  0.970507\n",
      "19  mean perimeter     worst radius  0.969520\n",
      "32  mean perimeter       worst area  0.941920 \n",
      "\n",
      "           feature1      feature2      corr\n",
      "12  perimeter error  radius error  0.978323\n",
      "30  perimeter error    area error  0.944995 \n",
      "\n",
      "               feature1              feature2      corr\n",
      "36  mean concave points        mean concavity  0.914627\n",
      "41  mean concave points  worst concave points  0.906312 \n",
      "\n",
      "         feature1      feature2      corr\n",
      "38  worst texture  mean texture  0.908182 \n",
      "\n"
     ]
    }
   ],
   "source": [
    "corr = corr_feature_detect(data=X_train,threshold=0.9)\n",
    "# print all the correlated feature groups!\n",
    "for i in corr:\n",
    "    print(i,'\\n')"
   ]
  },
  {
   "cell_type": "code",
   "execution_count": null,
   "metadata": {},
   "outputs": [],
   "source": []
  }
 ],
 "metadata": {
  "kernelspec": {
   "display_name": "Python 3 (ipykernel)",
   "language": "python",
   "name": "python3"
  },
  "language_info": {
   "codemirror_mode": {
    "name": "ipython",
    "version": 3
   },
   "file_extension": ".py",
   "mimetype": "text/x-python",
   "name": "python",
   "nbconvert_exporter": "python",
   "pygments_lexer": "ipython3",
   "version": "3.8.13"
  }
 },
 "nbformat": 4,
 "nbformat_minor": 4
}
