{
 "cells": [
  {
   "cell_type": "markdown",
   "metadata": {},
   "source": [
    "# Bagging  \n",
    "make_classification: https://scikit-learn.org/stable/modules/generated/sklearn.datasets.make_classification.html  \n",
    "BaggingClassifier: https://scikit-learn.org/stable/modules/generated/sklearn.ensemble.BaggingClassifier.html"
   ]
  },
  {
   "cell_type": "code",
   "execution_count": 2,
   "metadata": {},
   "outputs": [
    {
     "name": "stdout",
     "output_type": "stream",
     "text": [
      "(100, 4)\n",
      "[0 0 0 0 0 0 0 0 0 0 1 0 0 0 0 0 0 0 0 0 0 0 0 0 0 1 1 1 1 1 1 1 1 1 1 1 1\n",
      " 1 1 1 1 1 1 1 1 1 1 1 1 1 0 0 0 0 0 0 0 0 0 0 0 0 0 0 0 0 0 0 0 0 0 0 0 0\n",
      " 0 1 1 1 1 1 1 1 1 1 1 1 1 1 1 1 1 1 1 1 1 1 1 1 1 1]\n",
      "[1]\n"
     ]
    }
   ],
   "source": [
    "from sklearn.svm import SVC\n",
    "from sklearn.ensemble import BaggingClassifier\n",
    "from sklearn.datasets import make_classification\n",
    "X, y = make_classification(n_samples=100, n_features=4,\n",
    "                            n_informative=2, n_redundant=0,\n",
    "                            random_state=0, shuffle=False)\n",
    "print(X.shape)\n",
    "print(y)\n",
    "clf = BaggingClassifier(base_estimator=SVC(), n_estimators=10, random_state=0).fit(X, y)\n",
    "\n",
    "print(clf.predict([[0, 0, 0, 0]]))"
   ]
  },
  {
   "cell_type": "code",
   "execution_count": 6,
   "metadata": {},
   "outputs": [
    {
     "name": "stdout",
     "output_type": "stream",
     "text": [
      "Bagging: 0.8754208754208754\n",
      "OOB Score: 0.9446666666666667\n"
     ]
    }
   ],
   "source": [
    "from sklearn.datasets import load_digits\n",
    "from sklearn.tree import DecisionTreeClassifier\n",
    "from sklearn.ensemble import BaggingClassifier\n",
    "from sklearn import metrics\n",
    "\n",
    "\n",
    "digits = load_digits()\n",
    "\n",
    "train_size = 1500\n",
    "train_x, train_y = digits.data[:train_size], digits.target[:train_size]\n",
    "test_x, test_y = digits.data[train_size:], digits.target[train_size:]\n",
    "\n",
    "ensemble_size = 30\n",
    "ensemble = BaggingClassifier(base_estimator=DecisionTreeClassifier(),\n",
    "                             n_estimators=ensemble_size,\n",
    "                             oob_score=True)\n",
    "\n",
    "ensemble.fit(train_x, train_y)\n",
    "\n",
    "ensemble_predictions = ensemble.predict(test_x)\n",
    "\n",
    "ensemble_acc = metrics.accuracy_score(test_y, ensemble_predictions)\n",
    "\n",
    "print('Bagging: {}'.format(ensemble_acc))\n",
    "print('OOB Score: {}'.format(ensemble.oob_score_))"
   ]
  },
  {
   "cell_type": "code",
   "execution_count": 4,
   "metadata": {},
   "outputs": [
    {
     "name": "stdout",
     "output_type": "stream",
     "text": [
      "Bagging r-squared: 0.5163657922013793\n",
      "Bagging MSE: 2677.4957560485336\n",
      "------------------------------\n",
      "Decision Tree r-squared: 0.14501770368143274\n",
      "Decision Tree MSE: 4733.35308581562\n"
     ]
    }
   ],
   "source": [
    "from sklearn.datasets import load_diabetes\n",
    "from sklearn.tree import DecisionTreeRegressor\n",
    "from sklearn.ensemble import BaggingRegressor\n",
    "from sklearn import metrics\n",
    "import numpy as np\n",
    "\n",
    "np.random.seed(1234)\n",
    "diabetes = load_diabetes()\n",
    "train_x, train_y = diabetes.data[:400], diabetes.target[:400]\n",
    "test_x, test_y = diabetes.data[400:], diabetes.target[400:]\n",
    "\n",
    "\n",
    "estimator = DecisionTreeRegressor(max_depth=6)\n",
    "ensemble = BaggingRegressor(base_estimator=estimator,\n",
    "                            n_estimators=10)\n",
    "\n",
    "ensemble.fit(train_x, train_y)\n",
    "ensemble_predictions = ensemble.predict(test_x)\n",
    "\n",
    "estimator.fit(train_x, train_y)\n",
    "single_predictions = estimator.predict(test_x)\n",
    "\n",
    "ensemble_r2 = metrics.r2_score(test_y, ensemble_predictions)\n",
    "ensemble_mse = metrics.mean_squared_error(test_y, ensemble_predictions)\n",
    "\n",
    "single_r2 = metrics.r2_score(test_y, single_predictions)\n",
    "single_mse = metrics.mean_squared_error(test_y, single_predictions)\n",
    "\n",
    "print('Bagging r-squared: {}'.format(ensemble_r2))\n",
    "print('Bagging MSE: {}'.format(ensemble_mse))\n",
    "print('-'*30)\n",
    "print('Decision Tree r-squared: {}'.format(single_r2))\n",
    "print('Decision Tree MSE: {}'.format(single_mse))\n"
   ]
  }
 ],
 "metadata": {
  "kernelspec": {
   "display_name": "Python 3 (ipykernel)",
   "language": "python",
   "name": "python3"
  },
  "language_info": {
   "codemirror_mode": {
    "name": "ipython",
    "version": 3
   },
   "file_extension": ".py",
   "mimetype": "text/x-python",
   "name": "python",
   "nbconvert_exporter": "python",
   "pygments_lexer": "ipython3",
   "version": "3.8.13"
  }
 },
 "nbformat": 4,
 "nbformat_minor": 4
}
