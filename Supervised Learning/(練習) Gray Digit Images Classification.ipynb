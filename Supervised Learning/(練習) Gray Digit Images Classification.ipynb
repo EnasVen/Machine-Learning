{
 "cells": [
  {
   "cell_type": "markdown",
   "metadata": {},
   "source": [
    "# 黑白數字辨識\n",
    "擷取6*6區域內的黑點總和數進行圖像縮減"
   ]
  },
  {
   "cell_type": "markdown",
   "metadata": {},
   "source": [
    "![alt text](./images/ML_01.jpg)"
   ]
  },
  {
   "cell_type": "markdown",
   "metadata": {},
   "source": [
    "![alt text](./images/ML_02.jpg)"
   ]
  },
  {
   "cell_type": "markdown",
   "metadata": {},
   "source": [
    "![alt text](./images/ML_03.jpg)"
   ]
  },
  {
   "cell_type": "markdown",
   "metadata": {},
   "source": [
    "![alt text](./images/ML_04.jpg)"
   ]
  },
  {
   "cell_type": "code",
   "execution_count": 27,
   "metadata": {},
   "outputs": [
    {
     "data": {
      "text/plain": [
       "(100, 240, 240)"
      ]
     },
     "execution_count": 27,
     "metadata": {},
     "output_type": "execute_result"
    }
   ],
   "source": [
    "images.shape"
   ]
  },
  {
   "cell_type": "code",
   "execution_count": 26,
   "metadata": {},
   "outputs": [
    {
     "name": "stdout",
     "output_type": "stream",
     "text": [
      "0-1.bmp\n",
      "0-10.bmp\n",
      "0-2.bmp\n",
      "0-3.bmp\n",
      "0-4.bmp\n",
      "0-5.bmp\n",
      "0-6.bmp\n",
      "0-7.bmp\n",
      "0-8.bmp\n",
      "0-9.bmp\n",
      "1-1.bmp\n",
      "1-10.bmp\n",
      "1-2.bmp\n",
      "1-3.bmp\n",
      "1-4.bmp\n",
      "1-5.bmp\n",
      "1-6.bmp\n",
      "1-7.bmp\n",
      "1-8.bmp\n",
      "1-9.bmp\n",
      "2--2.bmp\n",
      "2-1.bmp\n",
      "2-10.bmp\n",
      "2-3.bmp\n",
      "2-4.bmp\n",
      "2-5.bmp\n",
      "2-6.bmp\n",
      "2-7.bmp\n",
      "2-8.bmp\n",
      "2-9.bmp\n",
      "3-1.bmp\n",
      "3-10.bmp\n",
      "3-2.bmp\n",
      "3-3.bmp\n",
      "3-4.bmp\n",
      "3-5.bmp\n",
      "3-6.bmp\n",
      "3-7.bmp\n",
      "3-8.bmp\n",
      "3-9.bmp\n",
      "4-1.bmp\n",
      "4-10.bmp\n",
      "4-2.bmp\n",
      "4-3.bmp\n",
      "4-4.bmp\n",
      "4-5.bmp\n",
      "4-6.bmp\n",
      "4-7.bmp\n",
      "4-8.bmp\n",
      "4-9.bmp\n",
      "5-1.bmp\n",
      "5-10.bmp\n",
      "5-2.bmp\n",
      "5-3.bmp\n",
      "5-4.bmp\n",
      "5-5.bmp\n",
      "5-6.bmp\n",
      "5-7.bmp\n",
      "5-8.bmp\n",
      "5-9.bmp\n",
      "6-1.bmp\n",
      "6-10.bmp\n",
      "6-2.bmp\n",
      "6-3.bmp\n",
      "6-4.bmp\n",
      "6-5.bmp\n",
      "6-6.bmp\n",
      "6-7.bmp\n",
      "6-8.bmp\n",
      "6-9.bmp\n",
      "7-1.bmp\n",
      "7-10.bmp\n",
      "7-2.bmp\n",
      "7-3.bmp\n",
      "7-4.bmp\n",
      "7-5.bmp\n",
      "7-6.bmp\n",
      "7-7.bmp\n",
      "7-8.bmp\n",
      "7-9.bmp\n",
      "8-1.bmp\n",
      "8-10.bmp\n",
      "8-2.bmp\n",
      "8-3.bmp\n",
      "8-4.bmp\n",
      "8-5.bmp\n",
      "8-6.bmp\n",
      "8-7.bmp\n",
      "8-8.bmp\n",
      "8-9.bmp\n",
      "9-1.bmp\n",
      "9-10.bmp\n",
      "9-2.bmp\n",
      "9-3.bmp\n",
      "9-4.bmp\n",
      "9-5.bmp\n",
      "9-6.bmp\n",
      "9-7.bmp\n",
      "9-8.bmp\n",
      "9-9.bmp\n"
     ]
    }
   ],
   "source": [
    "import cv2\n",
    "import os\n",
    "import numpy as np\n",
    "num=100\n",
    "row=240\n",
    "col=240\n",
    "images = np.zeros((num,row,col))\n",
    "idx=0\n",
    "\n",
    "for i in range(10):\n",
    "    for file in os.listdir(\"./data/{}\".format(i)):\n",
    "        if file.endswith(\".bmp\"):\n",
    "            images[idx,:,:] = cv2.imread(\"./data/{}\".format(i) + \"/\"+ os.path.join(file) , 0)\n",
    "            idx += 1\n",
    "            print(os.path.join(file))"
   ]
  },
  {
   "cell_type": "code",
   "execution_count": 28,
   "metadata": {
    "scrolled": true
   },
   "outputs": [
    {
     "name": "stdout",
     "output_type": "stream",
     "text": [
      "(100, 240, 240)\n"
     ]
    }
   ],
   "source": [
    "print(images.shape)"
   ]
  },
  {
   "cell_type": "code",
   "execution_count": 1,
   "metadata": {},
   "outputs": [
    {
     "name": "stdout",
     "output_type": "stream",
     "text": [
      "(100, 240, 240)\n"
     ]
    }
   ],
   "source": [
    "import cv2\n",
    "import numpy as np\n",
    "import matplotlib.pyplot as plt\n",
    "\n",
    "# read image data \n",
    "s='./data/'  \n",
    "\n",
    "# write your code here\n",
    "\n",
    "print(images.shape)  "
   ]
  },
  {
   "cell_type": "code",
   "execution_count": 42,
   "metadata": {},
   "outputs": [
    {
     "data": {
      "text/plain": [
       "array([[255., 255., 255., ..., 255., 255., 255.],\n",
       "       [255., 255., 255., ..., 255., 255., 255.],\n",
       "       [255., 255., 255., ..., 255., 255., 255.],\n",
       "       ...,\n",
       "       [255., 255., 255., ..., 255., 255., 255.],\n",
       "       [255., 255., 255., ..., 255., 255., 255.],\n",
       "       [255., 255., 255., ..., 255., 255., 255.]])"
      ]
     },
     "execution_count": 42,
     "metadata": {},
     "output_type": "execute_result"
    }
   ],
   "source": [
    "images[0,:,:]"
   ]
  },
  {
   "cell_type": "code",
   "execution_count": 31,
   "metadata": {},
   "outputs": [],
   "source": [
    "tmp = images[1,:,:]"
   ]
  },
  {
   "cell_type": "code",
   "execution_count": 41,
   "metadata": {},
   "outputs": [
    {
     "name": "stdout",
     "output_type": "stream",
     "text": [
      "(40, 40)\n",
      "0\n",
      "(40, 40)\n",
      "0\n",
      "(40, 40)\n",
      "0\n",
      "(40, 40)\n",
      "0\n",
      "(40, 40)\n",
      "0\n",
      "(40, 40)\n",
      "0\n"
     ]
    }
   ],
   "source": [
    "tmp2 = np.split(tmp , 6 , axis=0) \n",
    "for i in range(6):\n",
    "    print(np.split(tmp2[i] , 6 , axis=1)[0].shape)\n",
    "    print(np.split(tmp2[i] , 6 , axis=1)[0].size - np.count_nonzero(np.split(tmp2[i] , 6 , axis=1)[0]) )"
   ]
  },
  {
   "cell_type": "code",
   "execution_count": 43,
   "metadata": {},
   "outputs": [
    {
     "data": {
      "text/plain": [
       "array([ 0,  1,  2,  3,  4,  5,  6,  7,  8,  9, 10, 11, 12, 13, 14, 15, 16,\n",
       "       17, 18, 19, 20, 21, 22, 23, 24, 25, 26, 27, 28, 29, 30, 31, 32, 33,\n",
       "       34, 35])"
      ]
     },
     "execution_count": 43,
     "metadata": {},
     "output_type": "execute_result"
    }
   ],
   "source": [
    "np.array(range(36))"
   ]
  },
  {
   "cell_type": "code",
   "execution_count": 54,
   "metadata": {},
   "outputs": [
    {
     "name": "stdout",
     "output_type": "stream",
     "text": [
      "(100, 36)\n",
      "(100,)\n"
     ]
    }
   ],
   "source": [
    "# extract each image as feature vector\n",
    "# use 6*6 grid to represent each origin image\n",
    "\n",
    "# write your code here\n",
    "tmp_array = np.empty\n",
    "dataset = np.zeros((100,36))\n",
    "\n",
    "for n in range(images.shape[0]):\n",
    "    tmp1 = images[n,:,:]\n",
    "    tmp2 = np.split(tmp1 , 6 , axis=0) \n",
    "    tmp_cnt_array = []\n",
    "    for i in range(6):\n",
    "        for j in range(6):\n",
    "            tmp_cnt_array.append(np.split(tmp2[i] , 6 , axis=1)[j].size - np.count_nonzero(np.split(tmp2[i] , 6 , axis=1)[j]))\n",
    "#             print(tmp_cnt_array)\n",
    "#     print(tmp_cnt_array)   \n",
    "    dataset[n,:] = tmp_cnt_array\n",
    "    \n",
    "labels = np.asarray([int(i/10)  for i in range(0,100)])\n",
    "print(dataset.shape)\n",
    "print(labels.shape)"
   ]
  },
  {
   "cell_type": "code",
   "execution_count": 55,
   "metadata": {},
   "outputs": [
    {
     "name": "stdout",
     "output_type": "stream",
     "text": [
      "(80, 36)\n",
      "(80,)\n",
      "(20, 36)\n",
      "(20,)\n"
     ]
    }
   ],
   "source": [
    "from sklearn import neighbors\n",
    "from sklearn.model_selection import train_test_split\n",
    "from sklearn import preprocessing\n",
    "from sklearn.metrics import accuracy_score, confusion_matrix\n",
    "from sklearn.svm import SVC\n",
    "# split data into training data and testing data\n",
    "\n",
    "\n",
    "# write your code here\n",
    "X = dataset\n",
    "y = labels\n",
    "X_train, X_test, y_train, y_test = train_test_split(X, y, test_size=0.2)\n",
    "\n",
    "\n",
    "print(X_train.shape)\n",
    "print(y_train.shape)\n",
    "\n",
    "print(X_test.shape)\n",
    "print(y_test.shape)"
   ]
  },
  {
   "cell_type": "code",
   "execution_count": 56,
   "metadata": {},
   "outputs": [
    {
     "name": "stdout",
     "output_type": "stream",
     "text": [
      "number of correct sample: 16\n",
      "accuracy: 0.8\n",
      "con_matrix: [[1 0 0 0 0 0 0 0 0]\n",
      " [0 2 0 0 0 0 0 0 0]\n",
      " [0 0 2 0 0 0 0 0 0]\n",
      " [0 0 0 2 0 2 0 0 0]\n",
      " [0 0 0 0 3 2 0 0 0]\n",
      " [0 0 0 0 0 2 0 0 0]\n",
      " [0 0 0 0 0 0 1 0 0]\n",
      " [0 0 0 0 0 0 0 2 0]\n",
      " [0 0 0 0 0 0 0 0 1]]\n"
     ]
    }
   ],
   "source": [
    "# build model and evaluate your result\n",
    "\n",
    "# write your code here\n",
    "scaler = preprocessing.StandardScaler().fit(X_train)\n",
    "X_train = scaler.transform(X_train)\n",
    "\n",
    "# we can change kernel to rbf, poly, linear\n",
    "model = SVC(kernel='rbf', C=1.3)\n",
    "model.fit(X_train, y_train)\n",
    "\n",
    "X_test = scaler.transform(X_test)\n",
    "y_pred = model.predict(X_test)\n",
    "\n",
    "from sklearn.metrics import accuracy_score, confusion_matrix\n",
    "accuracy = accuracy_score(y_test, y_pred)\n",
    "num_correct_samples = accuracy_score(y_test, y_pred, normalize=False)\n",
    "con_matrix = confusion_matrix(y_test, y_pred)\n",
    "\n",
    "print('number of correct sample: {}'.format(num_correct_samples))\n",
    "print('accuracy: {}'.format(accuracy))\n",
    "print('con_matrix: {}'.format(con_matrix))"
   ]
  },
  {
   "cell_type": "code",
   "execution_count": null,
   "metadata": {},
   "outputs": [],
   "source": []
  }
 ],
 "metadata": {
  "kernelspec": {
   "display_name": "Python 3 (ipykernel)",
   "language": "python",
   "name": "python3"
  },
  "language_info": {
   "codemirror_mode": {
    "name": "ipython",
    "version": 3
   },
   "file_extension": ".py",
   "mimetype": "text/x-python",
   "name": "python",
   "nbconvert_exporter": "python",
   "pygments_lexer": "ipython3",
   "version": "3.8.13"
  }
 },
 "nbformat": 4,
 "nbformat_minor": 2
}
