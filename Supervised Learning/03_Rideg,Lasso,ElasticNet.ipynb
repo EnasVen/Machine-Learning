{
 "cells": [
  {
   "cell_type": "markdown",
   "id": "ae0e1494",
   "metadata": {},
   "source": [
    "# Lasso, Ridge, Elastic Net  \n",
    "lasso model: https://scikit-learn.org/stable/modules/generated/sklearn.linear_model.Lasso.html   \n",
    "ridge model: https://scikit-learn.org/0.16/modules/generated/sklearn.linear_model.Ridge.html  \n",
    "elastic net: https://scikit-learn.org/0.15/modules/generated/sklearn.linear_model.ElasticNet.html"
   ]
  },
  {
   "cell_type": "code",
   "execution_count": 21,
   "id": "14e4fb98",
   "metadata": {},
   "outputs": [
    {
     "name": "stdout",
     "output_type": "stream",
     "text": [
      "diabetes_X shape: (442, 10)\n",
      "diabetes_y shape: (442,)\n",
      "Coefficients: [ -11.9995879  -200.01121032  527.59206656  282.17154756  -64.03333416\n",
      "  -66.42747263 -181.06226774  114.64119724  436.95836096   68.04191662]\n",
      "\n",
      "Mean squared error: 3315.975615108992\n",
      "R2 score: 0.31825910054539375\n",
      "number of model coef: 10\n"
     ]
    }
   ],
   "source": [
    "import numpy as np\n",
    "from sklearn import datasets, linear_model\n",
    "from sklearn.metrics import mean_squared_error, r2_score\n",
    "from sklearn.model_selection import train_test_split\n",
    "\n",
    "# Load the diabetes dataset (以糖尿病為例)\n",
    "# All data had been normalized\n",
    "diabetes = datasets.load_diabetes()\n",
    "\n",
    "# use all of features \n",
    "diabetes_X = diabetes.data\n",
    "diabetes_y = diabetes.target\n",
    "\n",
    "print(\"diabetes_X shape: {}\".format(diabetes_X.shape))\n",
    "print(\"diabetes_y shape: {}\".format(diabetes_y.shape))\n",
    "\n",
    "\n",
    "#Split dataset into training/testing data\n",
    "diabetes_X_train, diabetes_X_test, diabetes_y_train, diabetes_y_test = train_test_split(diabetes_X, diabetes_y, test_size=0.1, random_state=1)\n",
    "\n",
    "#Build model\n",
    "# model = linear_model.Lasso(alpha=0.1)\n",
    "model = linear_model.Ridge(alpha=0.1)\n",
    "# model = linear_model.ElasticNet(alpha=0.3, l1_ratio=0.33)\n",
    "\n",
    "# Train the model using the training sets\n",
    "model.fit(diabetes_X_train, diabetes_y_train)\n",
    "\n",
    "# Make predictions using the testing set\n",
    "diabetes_y_pred = model.predict(diabetes_X_test)\n",
    "\n",
    "# The coefficients\n",
    "print('Coefficients: {}\\n'.format(model.coef_))\n",
    "# The mean squared error\n",
    "print(\"Mean squared error: {}\".format((mean_squared_error(diabetes_y_test, diabetes_y_pred))))\n",
    "# Explained variance score: 1 is perfect prediction\n",
    "print('R2 score: {}'.format(r2_score(diabetes_y_test, diabetes_y_pred)))\n",
    "print('number of model coef: {}'.format(np.sum(model.coef_ != 0)))"
   ]
  },
  {
   "cell_type": "code",
   "execution_count": 23,
   "id": "532966b0",
   "metadata": {},
   "outputs": [
    {
     "name": "stdout",
     "output_type": "stream",
     "text": [
      "[  -0.         -151.56895849  566.82501586  250.90395361  -33.16139056\n",
      "   -0.         -201.40901228    0.          479.2968561     8.80738069]\n",
      "[False  True  True  True  True False  True False  True  True]\n",
      "before feature extraction, diabete_X shape: (442, 10)\n",
      "after feature extraction, diabete_X shape: (442, 7)\n"
     ]
    }
   ],
   "source": [
    "mask = (model.coef_ != 0)\n",
    "print(model.coef_)\n",
    "print(mask)\n",
    "print('before feature extraction, diabete_X shape: {}'.format(diabetes_X.shape))\n",
    "diabetes_X = diabetes_X[:, mask]\n",
    "print('after feature extraction, diabete_X shape: {}'.format(diabetes_X.shape))"
   ]
  },
  {
   "cell_type": "code",
   "execution_count": 9,
   "id": "71991666",
   "metadata": {
    "scrolled": true
   },
   "outputs": [
    {
     "name": "stdout",
     "output_type": "stream",
     "text": [
      "[False False False  True  True]\n",
      "[4 5]\n"
     ]
    }
   ],
   "source": [
    "import numpy as np\n",
    "my_numpy = np.array([1,2,3,4,5])\n",
    "bool_index = my_numpy > 3\n",
    "print(bool_index)\n",
    "print(my_numpy[bool_index])"
   ]
  },
  {
   "cell_type": "code",
   "execution_count": null,
   "id": "c20f66e4",
   "metadata": {},
   "outputs": [],
   "source": [
    "# Lasso, Ridge, Elastic Net  \n",
    "lasso model: https://scikit-learn.org/stable/modules/generated/sklearn.linear_model.Lasso.html   \n",
    "ridge model: https://scikit-learn.org/0.16/modules/generated/sklearn.linear_model.Ridge.html  \n",
    "elastic net: https://scikit-learn.org/0.15/modules/generated/sklearn.linear_model.ElasticNet.html\n",
    "\n",
    "import numpy as np\n",
    "from sklearn import datasets, linear_model\n",
    "from sklearn.metrics import mean_squared_error, r2_score\n",
    "from sklearn.model_selection import train_test_split\n",
    "\n",
    "# Load the diabetes dataset (以糖尿病為例)\n",
    "# All data had been normalized\n",
    "diabetes = datasets.load_diabetes()\n",
    "\n",
    "# use all of features \n",
    "diabetes_X = diabetes.data\n",
    "diabetes_y = diabetes.target\n",
    "\n",
    "print(\"diabetes_X shape: {}\".format(diabetes_X.shape))\n",
    "print(\"diabetes_y shape: {}\".format(diabetes_y.shape))\n",
    "\n",
    "\n",
    "#Split dataset into training/testing data\n",
    "diabetes_X_train, diabetes_X_test, diabetes_y_train, diabetes_y_test = train_test_split(diabetes_X, diabetes_y, test_size=0.1, random_state=1)\n",
    "\n",
    "#Build model\n",
    "# model = linear_model.Lasso(alpha=0.1)\n",
    "model = linear_model.Ridge(alpha=0.1)\n",
    "# model = linear_model.ElasticNet(alpha=0.3, l1_ratio=0.33)\n",
    "\n",
    "# Train the model using the training sets\n",
    "model.fit(diabetes_X_train, diabetes_y_train)\n",
    "\n",
    "# Make predictions using the testing set\n",
    "diabetes_y_pred = model.predict(diabetes_X_test)\n",
    "\n",
    "# The coefficients\n",
    "print('Coefficients: {}\\n'.format(model.coef_))\n",
    "# The mean squared error\n",
    "print(\"Mean squared error: {}\".format((mean_squared_error(diabetes_y_test, diabetes_y_pred))))\n",
    "# Explained variance score: 1 is perfect prediction\n",
    "print('R2 score: {}'.format(r2_score(diabetes_y_test, diabetes_y_pred)))\n",
    "print('number of model coef: {}'.format(np.sum(model.coef_ != 0)))\n",
    "\n",
    "mask = (model.coef_ != 0)\n",
    "print(model.coef_)\n",
    "print(mask)\n",
    "print('before feature extraction, diabete_X shape: {}'.format(diabetes_X.shape))\n",
    "diabetes_X = diabetes_X[:, mask]\n",
    "print('after feature extraction, diabete_X shape: {}'.format(diabetes_X.shape))\n",
    "\n",
    "import numpy as np\n",
    "my_numpy = np.array([1,2,3,4,5])\n",
    "bool_index = my_numpy > 3\n",
    "print(bool_index)\n",
    "print(my_numpy[bool_index])"
   ]
  }
 ],
 "metadata": {
  "kernelspec": {
   "display_name": "Python 3 (ipykernel)",
   "language": "python",
   "name": "python3"
  },
  "language_info": {
   "codemirror_mode": {
    "name": "ipython",
    "version": 3
   },
   "file_extension": ".py",
   "mimetype": "text/x-python",
   "name": "python",
   "nbconvert_exporter": "python",
   "pygments_lexer": "ipython3",
   "version": "3.8.13"
  }
 },
 "nbformat": 4,
 "nbformat_minor": 5
}
