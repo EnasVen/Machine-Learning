{
 "cells": [
  {
   "cell_type": "markdown",
   "id": "67300a49",
   "metadata": {},
   "source": [
    "# Polynomial Regression\n",
    "linear regression model:  \n",
    "http://scikit-learn.org/stable/modules/generated/sklearn.preprocessing.PolynomialFeatures.html"
   ]
  },
  {
   "cell_type": "code",
   "execution_count": 21,
   "id": "aba16217",
   "metadata": {},
   "outputs": [
    {
     "name": "stdout",
     "output_type": "stream",
     "text": [
      "(10, 5)\n",
      "(10, 56)\n"
     ]
    }
   ],
   "source": [
    "import numpy as np\n",
    "from sklearn.preprocessing import PolynomialFeatures\n",
    "X = np.arange(50).reshape(10, 5)\n",
    "print(X.shape)\n",
    "poly = PolynomialFeatures(3)\n",
    "X_poly = poly.fit_transform(X) # mean fit + transform\n",
    "\n",
    "print(X_poly.shape)"
   ]
  },
  {
   "cell_type": "code",
   "execution_count": 9,
   "id": "b1185bc3",
   "metadata": {},
   "outputs": [
    {
     "name": "stdout",
     "output_type": "stream",
     "text": [
      "X is \n",
      "[[0 1]\n",
      " [2 3]\n",
      " [4 5]]\n",
      "X_poly is \n",
      "[[ 1.  0.  1.  0.  0.  1.]\n",
      " [ 1.  2.  3.  4.  6.  9.]\n",
      " [ 1.  4.  5. 16. 20. 25.]]\n"
     ]
    }
   ],
   "source": [
    "import numpy as np\n",
    "from sklearn.preprocessing import PolynomialFeatures\n",
    "X = np.arange(6).reshape(3, 2)\n",
    "\n",
    "print('X is \\n{}'.format(X))\n",
    "\n",
    "poly = PolynomialFeatures(2)\n",
    "X_poly = poly.fit_transform(X) # mean fit + transform\n",
    "\n",
    "# fit_transform is equivalent to fit + transform\n",
    "#poly.fit(X)\n",
    "#X_poly = poly.transform(X)\n",
    "\n",
    "\n",
    "print('X_poly is \\n{}'.format(X_poly))"
   ]
  },
  {
   "cell_type": "code",
   "execution_count": 11,
   "id": "e9199924",
   "metadata": {
    "scrolled": false
   },
   "outputs": [
    {
     "name": "stdout",
     "output_type": "stream",
     "text": [
      "after reshaping, shape of X is (100, 1)\n",
      "origin X is [[6.66666667]\n",
      " [0.60606061]\n",
      " [9.39393939]\n",
      " [5.75757576]\n",
      " [9.8989899 ]]:\n",
      "after ploy transform X is [[ 1.          6.66666667 44.44444444]\n",
      " [ 1.          0.60606061  0.36730946]\n",
      " [ 1.          9.39393939 88.24609734]\n",
      " [ 1.          5.75757576 33.1496786 ]\n",
      " [ 1.          9.8989899  97.99000102]]:\n",
      "Coefficients: [[ 0.         -1.75562935  2.54755386]]\n",
      "\n",
      "Mean squared error: 11.355980998404029\n",
      "Variance score: 0.10530531896432105\n"
     ]
    }
   ],
   "source": [
    "import numpy as np\n",
    "import matplotlib.pyplot as plt\n",
    "from sklearn.preprocessing import PolynomialFeatures\n",
    "from sklearn import preprocessing\n",
    "\n",
    "def f(x):\n",
    "    \"\"\" function to approximate by polynomial interpolation\"\"\"\n",
    "    return x * np.sin(x)\n",
    "\n",
    "\n",
    "# create 100 data points that is uniformly in the range [0, 10] \n",
    "X = np.linspace(0, 10, 100)\n",
    "np.random.shuffle(X)\n",
    "X = X.reshape(-1,1)\n",
    "# print(X)\n",
    "y = f(X)\n",
    "print('after reshaping, shape of X is {}'.format(X.shape))\n",
    "\n",
    "# show origin X data (only the first 5 data points)\n",
    "print('origin X is {}:'.format(X[:5]))\n",
    "\n",
    "poly = PolynomialFeatures(degree=2).fit(X)\n",
    "X_poly = poly.transform(X)\n",
    "\n",
    "# show poly transform X data (only the first 5 data points)\n",
    "print('after ploy transform X is {}:'.format(X_poly[:5]))\n",
    "\n",
    "\n",
    "X_train,X_test,y_train,y_test=train_test_split(X_poly,y,test_size=0.3,random_state=1) #random_state 種子值\n",
    "\n",
    "scaler = preprocessing.StandardScaler().fit(X_train)\n",
    "X_train = scaler.transform(X_train)\n",
    "\n",
    "model = linear_model.LinearRegression()\n",
    "model.fit(X_train, y_train)\n",
    "\n",
    "X_test = scaler.transform(X_test)\n",
    "y_pred = model.predict(X_test)\n",
    "\n",
    "# The coefficients\n",
    "print('Coefficients: {}\\n'.format(model.coef_))\n",
    "# The mean squared error\n",
    "print(\"Mean squared error: {}\".format(mean_squared_error(y_test, y_pred)))\n",
    "# Explained variance score: 1 is perfect prediction\n",
    "print('Variance score: {}'.format(r2_score(y_test, y_pred)))"
   ]
  },
  {
   "cell_type": "code",
   "execution_count": 12,
   "id": "9516e22a",
   "metadata": {},
   "outputs": [
    {
     "name": "stdout",
     "output_type": "stream",
     "text": [
      "after reshaping, shape of X is (100, 1)\n",
      "origin X is [[7.47474747]\n",
      " [6.26262626]\n",
      " [5.35353535]\n",
      " [3.13131313]\n",
      " [8.38383838]]:\n",
      "after ploy transform X is [[ 1.          7.47474747 55.87184981]\n",
      " [ 1.          6.26262626 39.22048771]\n",
      " [ 1.          5.35353535 28.66034078]\n",
      " [ 1.          3.13131313  9.80512193]\n",
      " [ 1.          8.38383838 70.28874605]]:\n",
      "Coefficients: [[   0.         -195.64266544  475.79153676]]\n",
      "\n",
      "Mean squared error: 477.07319867947706\n",
      "Variance score: 0.9920951150932674\n"
     ]
    }
   ],
   "source": [
    "import numpy as np\n",
    "import matplotlib.pyplot as plt\n",
    "from sklearn.preprocessing import PolynomialFeatures\n",
    "from sklearn import preprocessing\n",
    "def f(x):\n",
    "    \"\"\" function to approximate by polynomial interpolation\"\"\"\n",
    "    return x* x * x - 3 *x  + 1\n",
    "\n",
    "\n",
    "# create 100 data points that is uniformly in the range [0, 10] \n",
    "X = np.linspace(0, 10, 100)\n",
    "np.random.shuffle(X)\n",
    "X = X.reshape(-1,1)\n",
    "y = f(X)\n",
    "print('after reshaping, shape of X is {}'.format(X.shape))\n",
    "\n",
    "# show origin X data (only the first 5 data points)\n",
    "print('origin X is {}:'.format(X[:5]))\n",
    "\n",
    "poly = PolynomialFeatures(degree=2).fit(X)\n",
    "X_poly = poly.transform(X)\n",
    "\n",
    "# show poly transform X data (only the first 5 data points)\n",
    "print('after ploy transform X is {}:'.format(X_poly[:5]))\n",
    "\n",
    "\n",
    "X_train,X_test,y_train,y_test=train_test_split(X_poly,y,test_size=0.3,random_state=1) #random_state 種子值\n",
    "\n",
    "scaler = preprocessing.StandardScaler().fit(X_train)\n",
    "X_train = scaler.transform(X_train)\n",
    "\n",
    "model = linear_model.LinearRegression()\n",
    "model.fit(X_train, y_train)\n",
    "\n",
    "X_test = scaler.transform(X_test)\n",
    "y_pred = model.predict(X_test)\n",
    "\n",
    "# The coefficients\n",
    "print('Coefficients: {}\\n'.format(model.coef_))\n",
    "# The mean squared error\n",
    "print(\"Mean squared error: {}\".format(mean_squared_error(y_test, y_pred)))\n",
    "# Explained variance score: 1 is perfect prediction\n",
    "print('Variance score: {}'.format(r2_score(y_test, y_pred)))"
   ]
  },
  {
   "cell_type": "code",
   "execution_count": 16,
   "id": "714f78ca",
   "metadata": {
    "scrolled": true
   },
   "outputs": [
    {
     "name": "stdout",
     "output_type": "stream",
     "text": [
      "rmse is 102.42325465734493\n",
      "R2 is 0.8537647164420812\n"
     ]
    },
    {
     "data": {
      "image/png": "[encoded data removed]",
      "text/plain": [
       "<Figure size 432x288 with 1 Axes>"
      ]
     },
     "metadata": {
      "needs_background": "light"
     },
     "output_type": "display_data"
    }
   ],
   "source": [
    "import operator\n",
    "import numpy as np\n",
    "import matplotlib.pyplot as plt\n",
    "from sklearn.linear_model import LinearRegression\n",
    "from sklearn.metrics import mean_squared_error, r2_score\n",
    "from sklearn.preprocessing import PolynomialFeatures\n",
    "\n",
    "np.random.seed(0)\n",
    "x = 2 - 3 * np.random.normal(0, 1, 20)\n",
    "y = x - 2 * (x ** 2) + 0.5 * (x ** 3) + np.random.normal(-3, 3, 20)\n",
    "\n",
    "# transforming the data to include another axis\n",
    "x = x[:, np.newaxis]\n",
    "y = y[:, np.newaxis]\n",
    "\n",
    "polynomial_features= PolynomialFeatures(degree=2)\n",
    "x_poly = polynomial_features.fit_transform(x)\n",
    "\n",
    "model = LinearRegression()\n",
    "model.fit(x_poly, y)\n",
    "y_poly_pred = model.predict(x_poly)\n",
    "\n",
    "rmse = mean_squared_error(y,y_poly_pred)\n",
    "r2 = r2_score(y,y_poly_pred)\n",
    "print('rmse is {}'.format(rmse))\n",
    "print('R2 is {}'.format(r2))\n",
    "\n",
    "plt.scatter(x, y, s=10)\n",
    "# sort the values of x before line plot\n",
    "sort_axis = operator.itemgetter(0)\n",
    "sorted_zip = sorted(zip(x,y_poly_pred), key=sort_axis)\n",
    "x, y_poly_pred = zip(*sorted_zip)\n",
    "plt.plot(x, y_poly_pred, color='m')\n",
    "plt.show()"
   ]
  },
  {
   "cell_type": "code",
   "execution_count": null,
   "id": "cf25c48b",
   "metadata": {},
   "outputs": [],
   "source": []
  }
 ],
 "metadata": {
  "kernelspec": {
   "display_name": "Python 3 (ipykernel)",
   "language": "python",
   "name": "python3"
  },
  "language_info": {
   "codemirror_mode": {
    "name": "ipython",
    "version": 3
   },
   "file_extension": ".py",
   "mimetype": "text/x-python",
   "name": "python",
   "nbconvert_exporter": "python",
   "pygments_lexer": "ipython3",
   "version": "3.8.13"
  }
 },
 "nbformat": 4,
 "nbformat_minor": 5
}
